{
 "cells": [
  {
   "cell_type": "markdown",
   "metadata": {},
   "source": [
    "# Predicting Telco Customer Churn"
   ]
  },
  {
   "cell_type": "markdown",
   "metadata": {},
   "source": [
    "## Exploratory Data Analysis \n",
    "\n",
    "In this section, we carry out some visualization and exploratory analysis of our dataset."
   ]
  },
  {
   "cell_type": "markdown",
   "metadata": {},
   "source": [
    "### Data and module importation"
   ]
  },
  {
   "cell_type": "code",
   "execution_count": 1,
   "metadata": {},
   "outputs": [],
   "source": [
    "#Importing the required libraries\n",
    "import pandas as pd\n",
    "import numpy as np\n",
    "import matplotlib.pyplot as plt\n",
    "import seaborn as sns"
   ]
  },
  {
   "cell_type": "code",
   "execution_count": 2,
   "metadata": {},
   "outputs": [],
   "source": [
    "#Importing the dataset into a pandas dataframe\n",
    "data = pd.read_csv('Telco.csv')"
   ]
  },
  {
   "cell_type": "code",
   "execution_count": 3,
   "metadata": {},
   "outputs": [
    {
     "data": {
      "text/html": [
       "<div>\n",
       "<style scoped>\n",
       "    .dataframe tbody tr th:only-of-type {\n",
       "        vertical-align: middle;\n",
       "    }\n",
       "\n",
       "    .dataframe tbody tr th {\n",
       "        vertical-align: top;\n",
       "    }\n",
       "\n",
       "    .dataframe thead th {\n",
       "        text-align: right;\n",
       "    }\n",
       "</style>\n",
       "<table border=\"1\" class=\"dataframe\">\n",
       "  <thead>\n",
       "    <tr style=\"text-align: right;\">\n",
       "      <th></th>\n",
       "      <th>customerID</th>\n",
       "      <th>gender</th>\n",
       "      <th>SeniorCitizen</th>\n",
       "      <th>Partner</th>\n",
       "      <th>Dependents</th>\n",
       "      <th>tenure</th>\n",
       "      <th>PhoneService</th>\n",
       "      <th>MultipleLines</th>\n",
       "      <th>InternetService</th>\n",
       "      <th>OnlineSecurity</th>\n",
       "      <th>...</th>\n",
       "      <th>DeviceProtection</th>\n",
       "      <th>TechSupport</th>\n",
       "      <th>StreamingTV</th>\n",
       "      <th>StreamingMovies</th>\n",
       "      <th>Contract</th>\n",
       "      <th>PaperlessBilling</th>\n",
       "      <th>PaymentMethod</th>\n",
       "      <th>MonthlyCharges</th>\n",
       "      <th>TotalCharges</th>\n",
       "      <th>Churn</th>\n",
       "    </tr>\n",
       "  </thead>\n",
       "  <tbody>\n",
       "    <tr>\n",
       "      <th>0</th>\n",
       "      <td>7590-VHVEG</td>\n",
       "      <td>Female</td>\n",
       "      <td>0</td>\n",
       "      <td>Yes</td>\n",
       "      <td>No</td>\n",
       "      <td>1</td>\n",
       "      <td>No</td>\n",
       "      <td>No phone service</td>\n",
       "      <td>DSL</td>\n",
       "      <td>No</td>\n",
       "      <td>...</td>\n",
       "      <td>No</td>\n",
       "      <td>No</td>\n",
       "      <td>No</td>\n",
       "      <td>No</td>\n",
       "      <td>Month-to-month</td>\n",
       "      <td>Yes</td>\n",
       "      <td>Electronic check</td>\n",
       "      <td>29.85</td>\n",
       "      <td>29.85</td>\n",
       "      <td>No</td>\n",
       "    </tr>\n",
       "    <tr>\n",
       "      <th>1</th>\n",
       "      <td>5575-GNVDE</td>\n",
       "      <td>Male</td>\n",
       "      <td>0</td>\n",
       "      <td>No</td>\n",
       "      <td>No</td>\n",
       "      <td>34</td>\n",
       "      <td>Yes</td>\n",
       "      <td>No</td>\n",
       "      <td>DSL</td>\n",
       "      <td>Yes</td>\n",
       "      <td>...</td>\n",
       "      <td>Yes</td>\n",
       "      <td>No</td>\n",
       "      <td>No</td>\n",
       "      <td>No</td>\n",
       "      <td>One year</td>\n",
       "      <td>No</td>\n",
       "      <td>Mailed check</td>\n",
       "      <td>56.95</td>\n",
       "      <td>1889.5</td>\n",
       "      <td>No</td>\n",
       "    </tr>\n",
       "    <tr>\n",
       "      <th>2</th>\n",
       "      <td>3668-QPYBK</td>\n",
       "      <td>Male</td>\n",
       "      <td>0</td>\n",
       "      <td>No</td>\n",
       "      <td>No</td>\n",
       "      <td>2</td>\n",
       "      <td>Yes</td>\n",
       "      <td>No</td>\n",
       "      <td>DSL</td>\n",
       "      <td>Yes</td>\n",
       "      <td>...</td>\n",
       "      <td>No</td>\n",
       "      <td>No</td>\n",
       "      <td>No</td>\n",
       "      <td>No</td>\n",
       "      <td>Month-to-month</td>\n",
       "      <td>Yes</td>\n",
       "      <td>Mailed check</td>\n",
       "      <td>53.85</td>\n",
       "      <td>108.15</td>\n",
       "      <td>Yes</td>\n",
       "    </tr>\n",
       "    <tr>\n",
       "      <th>3</th>\n",
       "      <td>7795-CFOCW</td>\n",
       "      <td>Male</td>\n",
       "      <td>0</td>\n",
       "      <td>No</td>\n",
       "      <td>No</td>\n",
       "      <td>45</td>\n",
       "      <td>No</td>\n",
       "      <td>No phone service</td>\n",
       "      <td>DSL</td>\n",
       "      <td>Yes</td>\n",
       "      <td>...</td>\n",
       "      <td>Yes</td>\n",
       "      <td>Yes</td>\n",
       "      <td>No</td>\n",
       "      <td>No</td>\n",
       "      <td>One year</td>\n",
       "      <td>No</td>\n",
       "      <td>Bank transfer (automatic)</td>\n",
       "      <td>42.30</td>\n",
       "      <td>1840.75</td>\n",
       "      <td>No</td>\n",
       "    </tr>\n",
       "    <tr>\n",
       "      <th>4</th>\n",
       "      <td>9237-HQITU</td>\n",
       "      <td>Female</td>\n",
       "      <td>0</td>\n",
       "      <td>No</td>\n",
       "      <td>No</td>\n",
       "      <td>2</td>\n",
       "      <td>Yes</td>\n",
       "      <td>No</td>\n",
       "      <td>Fiber optic</td>\n",
       "      <td>No</td>\n",
       "      <td>...</td>\n",
       "      <td>No</td>\n",
       "      <td>No</td>\n",
       "      <td>No</td>\n",
       "      <td>No</td>\n",
       "      <td>Month-to-month</td>\n",
       "      <td>Yes</td>\n",
       "      <td>Electronic check</td>\n",
       "      <td>70.70</td>\n",
       "      <td>151.65</td>\n",
       "      <td>Yes</td>\n",
       "    </tr>\n",
       "  </tbody>\n",
       "</table>\n",
       "<p>5 rows × 21 columns</p>\n",
       "</div>"
      ],
      "text/plain": [
       "   customerID  gender  SeniorCitizen Partner Dependents  tenure PhoneService  \\\n",
       "0  7590-VHVEG  Female              0     Yes         No       1           No   \n",
       "1  5575-GNVDE    Male              0      No         No      34          Yes   \n",
       "2  3668-QPYBK    Male              0      No         No       2          Yes   \n",
       "3  7795-CFOCW    Male              0      No         No      45           No   \n",
       "4  9237-HQITU  Female              0      No         No       2          Yes   \n",
       "\n",
       "      MultipleLines InternetService OnlineSecurity  ... DeviceProtection  \\\n",
       "0  No phone service             DSL             No  ...               No   \n",
       "1                No             DSL            Yes  ...              Yes   \n",
       "2                No             DSL            Yes  ...               No   \n",
       "3  No phone service             DSL            Yes  ...              Yes   \n",
       "4                No     Fiber optic             No  ...               No   \n",
       "\n",
       "  TechSupport StreamingTV StreamingMovies        Contract PaperlessBilling  \\\n",
       "0          No          No              No  Month-to-month              Yes   \n",
       "1          No          No              No        One year               No   \n",
       "2          No          No              No  Month-to-month              Yes   \n",
       "3         Yes          No              No        One year               No   \n",
       "4          No          No              No  Month-to-month              Yes   \n",
       "\n",
       "               PaymentMethod MonthlyCharges  TotalCharges Churn  \n",
       "0           Electronic check          29.85         29.85    No  \n",
       "1               Mailed check          56.95        1889.5    No  \n",
       "2               Mailed check          53.85        108.15   Yes  \n",
       "3  Bank transfer (automatic)          42.30       1840.75    No  \n",
       "4           Electronic check          70.70        151.65   Yes  \n",
       "\n",
       "[5 rows x 21 columns]"
      ]
     },
     "execution_count": 3,
     "metadata": {},
     "output_type": "execute_result"
    }
   ],
   "source": [
    "data.head()"
   ]
  },
  {
   "cell_type": "markdown",
   "metadata": {},
   "source": [
    "### Visualization and Analysis"
   ]
  },
  {
   "cell_type": "markdown",
   "metadata": {},
   "source": [
    "Checking for missing values:"
   ]
  },
  {
   "cell_type": "code",
   "execution_count": 4,
   "metadata": {},
   "outputs": [
    {
     "data": {
      "text/plain": [
       "customerID          0\n",
       "gender              0\n",
       "SeniorCitizen       0\n",
       "Partner             0\n",
       "Dependents          0\n",
       "tenure              0\n",
       "PhoneService        0\n",
       "MultipleLines       0\n",
       "InternetService     0\n",
       "OnlineSecurity      0\n",
       "OnlineBackup        0\n",
       "DeviceProtection    0\n",
       "TechSupport         0\n",
       "StreamingTV         0\n",
       "StreamingMovies     0\n",
       "Contract            0\n",
       "PaperlessBilling    0\n",
       "PaymentMethod       0\n",
       "MonthlyCharges      0\n",
       "TotalCharges        0\n",
       "Churn               0\n",
       "dtype: int64"
      ]
     },
     "execution_count": 4,
     "metadata": {},
     "output_type": "execute_result"
    }
   ],
   "source": [
    "data.isna().sum()"
   ]
  },
  {
   "cell_type": "markdown",
   "metadata": {},
   "source": [
    "Great! Looks like we don't have any missing values"
   ]
  },
  {
   "cell_type": "code",
   "execution_count": 6,
   "metadata": {},
   "outputs": [
    {
     "data": {
      "text/plain": [
       "[Text(0.5, 0, 'Frequency')]"
      ]
     },
     "execution_count": 6,
     "metadata": {},
     "output_type": "execute_result"
    },
    {
     "data": {
      "image/png": "[encoded data removed]",
      "text/plain": [
       "<Figure size 1440x720 with 2 Axes>"
      ]
     },
     "metadata": {
      "needs_background": "light"
     },
     "output_type": "display_data"
    }
   ],
   "source": [
    "fig, axes = plt.subplots(nrows=1, ncols=2, figsize=(20, 10))\n",
    "axes[0].hist(data.tenure)\n",
    "axes[1].hist(data.MonthlyCharges)\n",
    "axes[0].set_title('Distribution of Subscription Tenure')\n",
    "axes[1].set_title('Distribution of Monthly Charges')\n",
    "axes[0].set(xlabel=\"Tenure(Months)\")\n",
    "axes[0].set(ylabel=\"Frequency\")\n",
    "axes[1].set(xlabel=\"Monthly Charges($)\")\n",
    "axes[1].set(xlabel=\"Frequency\")"
   ]
  },
  {
   "cell_type": "code",
   "execution_count": 7,
   "metadata": {},
   "outputs": [
    {
     "data": {
      "text/plain": [
       "<matplotlib.axes._subplots.AxesSubplot at 0x2628c7d6b38>"
      ]
     },
     "execution_count": 7,
     "metadata": {},
     "output_type": "execute_result"
    },
    {
     "data": {
      "image/png": "[encoded data removed]",
      "text/plain": [
       "<Figure size 1440x720 with 2 Axes>"
      ]
     },
     "metadata": {
      "needs_background": "light"
     },
     "output_type": "display_data"
    }
   ],
   "source": [
    "fig, axes = plt.subplots(nrows=1, ncols=2, figsize=(20, 10))\n",
    "sns.boxplot(x=\"Churn\",y=\"tenure\",data=data,ax=axes[0])\n",
    "sns.boxplot(x=\"Churn\",y=\"MonthlyCharges\",data=data,ax=axes[1])"
   ]
  },
  {
   "cell_type": "code",
   "execution_count": 8,
   "metadata": {},
   "outputs": [
    {
     "data": {
      "text/plain": [
       "<matplotlib.axes._subplots.AxesSubplot at 0x2628c4414e0>"
      ]
     },
     "execution_count": 8,
     "metadata": {},
     "output_type": "execute_result"
    },
    {
     "data": {
      "image/png": "[encoded data removed]",
      "text/plain": [
       "<Figure size 1440x720 with 2 Axes>"
      ]
     },
     "metadata": {
      "needs_background": "light"
     },
     "output_type": "display_data"
    }
   ],
   "source": [
    "fig, axes = plt.subplots(nrows=1, ncols=2, figsize=(20, 10))\n",
    "sns.barplot(x=\"Churn\",y=\"tenure\",data=data,ax=axes[0])\n",
    "sns.barplot(x=\"Churn\",y=\"MonthlyCharges\",data=data,ax=axes[1])"
   ]
  },
  {
   "cell_type": "code",
   "execution_count": 9,
   "metadata": {},
   "outputs": [
    {
     "data": {
      "text/html": [
       "<div>\n",
       "<style scoped>\n",
       "    .dataframe tbody tr th:only-of-type {\n",
       "        vertical-align: middle;\n",
       "    }\n",
       "\n",
       "    .dataframe tbody tr th {\n",
       "        vertical-align: top;\n",
       "    }\n",
       "\n",
       "    .dataframe thead th {\n",
       "        text-align: right;\n",
       "    }\n",
       "</style>\n",
       "<table border=\"1\" class=\"dataframe\">\n",
       "  <thead>\n",
       "    <tr style=\"text-align: right;\">\n",
       "      <th></th>\n",
       "      <th>SeniorCitizen</th>\n",
       "      <th>tenure</th>\n",
       "      <th>MonthlyCharges</th>\n",
       "    </tr>\n",
       "    <tr>\n",
       "      <th>gender</th>\n",
       "      <th></th>\n",
       "      <th></th>\n",
       "      <th></th>\n",
       "    </tr>\n",
       "  </thead>\n",
       "  <tbody>\n",
       "    <tr>\n",
       "      <th>Female</th>\n",
       "      <td>0.162844</td>\n",
       "      <td>32.244553</td>\n",
       "      <td>65.204243</td>\n",
       "    </tr>\n",
       "    <tr>\n",
       "      <th>Male</th>\n",
       "      <td>0.161463</td>\n",
       "      <td>32.495359</td>\n",
       "      <td>64.327482</td>\n",
       "    </tr>\n",
       "  </tbody>\n",
       "</table>\n",
       "</div>"
      ],
      "text/plain": [
       "        SeniorCitizen     tenure  MonthlyCharges\n",
       "gender                                          \n",
       "Female       0.162844  32.244553       65.204243\n",
       "Male         0.161463  32.495359       64.327482"
      ]
     },
     "execution_count": 9,
     "metadata": {},
     "output_type": "execute_result"
    }
   ],
   "source": [
    "data.groupby(\"gender\").mean()"
   ]
  },
  {
   "cell_type": "code",
   "execution_count": 10,
   "metadata": {},
   "outputs": [
    {
     "data": {
      "text/plain": [
       "<matplotlib.axes._subplots.AxesSubplot at 0x2628c85eeb8>"
      ]
     },
     "execution_count": 10,
     "metadata": {},
     "output_type": "execute_result"
    },
    {
     "data": {
      "image/png": "[encoded data removed]",
      "text/plain": [
       "<Figure size 1440x720 with 2 Axes>"
      ]
     },
     "metadata": {
      "needs_background": "light"
     },
     "output_type": "display_data"
    }
   ],
   "source": [
    "fig, axes = plt.subplots(nrows=1, ncols=2, figsize=(20, 10))\n",
    "sns.barplot(x=\"Churn\",y=\"tenure\",hue=\"gender\",data=data,ax=axes[0])\n",
    "sns.barplot(x=\"Churn\",y=\"MonthlyCharges\",hue=\"gender\",data=data,ax=axes[1])"
   ]
  },
  {
   "cell_type": "markdown",
   "metadata": {},
   "source": [
    "## Data Pre-Processing"
   ]
  },
  {
   "cell_type": "markdown",
   "metadata": {},
   "source": [
    "In this section, we transform our data into a form amenable to machine learning. We encode categorical features, normalize numerical features and perform other necessary pre-processings."
   ]
  },
  {
   "cell_type": "code",
   "execution_count": 11,
   "metadata": {},
   "outputs": [
    {
     "data": {
      "text/plain": [
       "Fiber optic    3096\n",
       "DSL            2421\n",
       "No             1526\n",
       "Name: InternetService, dtype: int64"
      ]
     },
     "execution_count": 11,
     "metadata": {},
     "output_type": "execute_result"
    }
   ],
   "source": [
    "data.InternetService.value_counts()"
   ]
  },
  {
   "cell_type": "code",
   "execution_count": 12,
   "metadata": {},
   "outputs": [],
   "source": [
    "from sklearn.preprocessing import OneHotEncoder\n",
    "from sklearn.compose import make_column_transformer"
   ]
  },
  {
   "cell_type": "markdown",
   "metadata": {},
   "source": [
    "### Removing Redundant Information"
   ]
  },
  {
   "cell_type": "markdown",
   "metadata": {},
   "source": [
    "We already have columns which indicate the type of phone service and internet service, or if the person doesn't have phone/internet service. Hence, we can replace the \n",
    "entries which say \"No phone service\" or \"No internet service\" in other columns such as OnlineSecurity with \"No\"."
   ]
  },
  {
   "cell_type": "code",
   "execution_count": 13,
   "metadata": {},
   "outputs": [],
   "source": [
    "def makeNo(x):\n",
    "    if x == \"No internet service\" or x==\"No phone service\":\n",
    "        return \"No\"\n",
    "    else:\n",
    "        return x\n",
    "for feature in data.columns:\n",
    "    data[feature] = data[feature].apply(makeNo)"
   ]
  },
  {
   "cell_type": "code",
   "execution_count": 14,
   "metadata": {},
   "outputs": [
    {
     "data": {
      "text/plain": [
       "array(['Month-to-month', 'One year', 'Two year'], dtype=object)"
      ]
     },
     "execution_count": 14,
     "metadata": {},
     "output_type": "execute_result"
    }
   ],
   "source": [
    "data.Contract.unique()"
   ]
  },
  {
   "cell_type": "code",
   "execution_count": 15,
   "metadata": {},
   "outputs": [
    {
     "data": {
      "text/html": [
       "<div>\n",
       "<style scoped>\n",
       "    .dataframe tbody tr th:only-of-type {\n",
       "        vertical-align: middle;\n",
       "    }\n",
       "\n",
       "    .dataframe tbody tr th {\n",
       "        vertical-align: top;\n",
       "    }\n",
       "\n",
       "    .dataframe thead th {\n",
       "        text-align: right;\n",
       "    }\n",
       "</style>\n",
       "<table border=\"1\" class=\"dataframe\">\n",
       "  <thead>\n",
       "    <tr style=\"text-align: right;\">\n",
       "      <th></th>\n",
       "      <th>customerID</th>\n",
       "      <th>gender</th>\n",
       "      <th>SeniorCitizen</th>\n",
       "      <th>Partner</th>\n",
       "      <th>Dependents</th>\n",
       "      <th>tenure</th>\n",
       "      <th>PhoneService</th>\n",
       "      <th>MultipleLines</th>\n",
       "      <th>InternetService</th>\n",
       "      <th>OnlineSecurity</th>\n",
       "      <th>...</th>\n",
       "      <th>DeviceProtection</th>\n",
       "      <th>TechSupport</th>\n",
       "      <th>StreamingTV</th>\n",
       "      <th>StreamingMovies</th>\n",
       "      <th>Contract</th>\n",
       "      <th>PaperlessBilling</th>\n",
       "      <th>PaymentMethod</th>\n",
       "      <th>MonthlyCharges</th>\n",
       "      <th>TotalCharges</th>\n",
       "      <th>Churn</th>\n",
       "    </tr>\n",
       "  </thead>\n",
       "  <tbody>\n",
       "    <tr>\n",
       "      <th>0</th>\n",
       "      <td>7590-VHVEG</td>\n",
       "      <td>Female</td>\n",
       "      <td>0</td>\n",
       "      <td>Yes</td>\n",
       "      <td>No</td>\n",
       "      <td>1</td>\n",
       "      <td>No</td>\n",
       "      <td>No</td>\n",
       "      <td>DSL</td>\n",
       "      <td>No</td>\n",
       "      <td>...</td>\n",
       "      <td>No</td>\n",
       "      <td>No</td>\n",
       "      <td>No</td>\n",
       "      <td>No</td>\n",
       "      <td>Month-to-month</td>\n",
       "      <td>Yes</td>\n",
       "      <td>Electronic check</td>\n",
       "      <td>29.85</td>\n",
       "      <td>29.85</td>\n",
       "      <td>No</td>\n",
       "    </tr>\n",
       "    <tr>\n",
       "      <th>1</th>\n",
       "      <td>5575-GNVDE</td>\n",
       "      <td>Male</td>\n",
       "      <td>0</td>\n",
       "      <td>No</td>\n",
       "      <td>No</td>\n",
       "      <td>34</td>\n",
       "      <td>Yes</td>\n",
       "      <td>No</td>\n",
       "      <td>DSL</td>\n",
       "      <td>Yes</td>\n",
       "      <td>...</td>\n",
       "      <td>Yes</td>\n",
       "      <td>No</td>\n",
       "      <td>No</td>\n",
       "      <td>No</td>\n",
       "      <td>One year</td>\n",
       "      <td>No</td>\n",
       "      <td>Mailed check</td>\n",
       "      <td>56.95</td>\n",
       "      <td>1889.5</td>\n",
       "      <td>No</td>\n",
       "    </tr>\n",
       "    <tr>\n",
       "      <th>2</th>\n",
       "      <td>3668-QPYBK</td>\n",
       "      <td>Male</td>\n",
       "      <td>0</td>\n",
       "      <td>No</td>\n",
       "      <td>No</td>\n",
       "      <td>2</td>\n",
       "      <td>Yes</td>\n",
       "      <td>No</td>\n",
       "      <td>DSL</td>\n",
       "      <td>Yes</td>\n",
       "      <td>...</td>\n",
       "      <td>No</td>\n",
       "      <td>No</td>\n",
       "      <td>No</td>\n",
       "      <td>No</td>\n",
       "      <td>Month-to-month</td>\n",
       "      <td>Yes</td>\n",
       "      <td>Mailed check</td>\n",
       "      <td>53.85</td>\n",
       "      <td>108.15</td>\n",
       "      <td>Yes</td>\n",
       "    </tr>\n",
       "    <tr>\n",
       "      <th>3</th>\n",
       "      <td>7795-CFOCW</td>\n",
       "      <td>Male</td>\n",
       "      <td>0</td>\n",
       "      <td>No</td>\n",
       "      <td>No</td>\n",
       "      <td>45</td>\n",
       "      <td>No</td>\n",
       "      <td>No</td>\n",
       "      <td>DSL</td>\n",
       "      <td>Yes</td>\n",
       "      <td>...</td>\n",
       "      <td>Yes</td>\n",
       "      <td>Yes</td>\n",
       "      <td>No</td>\n",
       "      <td>No</td>\n",
       "      <td>One year</td>\n",
       "      <td>No</td>\n",
       "      <td>Bank transfer (automatic)</td>\n",
       "      <td>42.30</td>\n",
       "      <td>1840.75</td>\n",
       "      <td>No</td>\n",
       "    </tr>\n",
       "    <tr>\n",
       "      <th>4</th>\n",
       "      <td>9237-HQITU</td>\n",
       "      <td>Female</td>\n",
       "      <td>0</td>\n",
       "      <td>No</td>\n",
       "      <td>No</td>\n",
       "      <td>2</td>\n",
       "      <td>Yes</td>\n",
       "      <td>No</td>\n",
       "      <td>Fiber optic</td>\n",
       "      <td>No</td>\n",
       "      <td>...</td>\n",
       "      <td>No</td>\n",
       "      <td>No</td>\n",
       "      <td>No</td>\n",
       "      <td>No</td>\n",
       "      <td>Month-to-month</td>\n",
       "      <td>Yes</td>\n",
       "      <td>Electronic check</td>\n",
       "      <td>70.70</td>\n",
       "      <td>151.65</td>\n",
       "      <td>Yes</td>\n",
       "    </tr>\n",
       "  </tbody>\n",
       "</table>\n",
       "<p>5 rows × 21 columns</p>\n",
       "</div>"
      ],
      "text/plain": [
       "   customerID  gender  SeniorCitizen Partner Dependents  tenure PhoneService  \\\n",
       "0  7590-VHVEG  Female              0     Yes         No       1           No   \n",
       "1  5575-GNVDE    Male              0      No         No      34          Yes   \n",
       "2  3668-QPYBK    Male              0      No         No       2          Yes   \n",
       "3  7795-CFOCW    Male              0      No         No      45           No   \n",
       "4  9237-HQITU  Female              0      No         No       2          Yes   \n",
       "\n",
       "  MultipleLines InternetService OnlineSecurity  ... DeviceProtection  \\\n",
       "0            No             DSL             No  ...               No   \n",
       "1            No             DSL            Yes  ...              Yes   \n",
       "2            No             DSL            Yes  ...               No   \n",
       "3            No             DSL            Yes  ...              Yes   \n",
       "4            No     Fiber optic             No  ...               No   \n",
       "\n",
       "  TechSupport StreamingTV StreamingMovies        Contract PaperlessBilling  \\\n",
       "0          No          No              No  Month-to-month              Yes   \n",
       "1          No          No              No        One year               No   \n",
       "2          No          No              No  Month-to-month              Yes   \n",
       "3         Yes          No              No        One year               No   \n",
       "4          No          No              No  Month-to-month              Yes   \n",
       "\n",
       "               PaymentMethod MonthlyCharges  TotalCharges Churn  \n",
       "0           Electronic check          29.85         29.85    No  \n",
       "1               Mailed check          56.95        1889.5    No  \n",
       "2               Mailed check          53.85        108.15   Yes  \n",
       "3  Bank transfer (automatic)          42.30       1840.75    No  \n",
       "4           Electronic check          70.70        151.65   Yes  \n",
       "\n",
       "[5 rows x 21 columns]"
      ]
     },
     "execution_count": 15,
     "metadata": {},
     "output_type": "execute_result"
    }
   ],
   "source": [
    "data.head()"
   ]
  },
  {
   "cell_type": "markdown",
   "metadata": {},
   "source": [
    "### Feature Encoding\n",
    "\n",
    "We encode the categorical variables using the pandas get_dummies function and drop the first category which serves as the base/reference category."
   ]
  },
  {
   "cell_type": "code",
   "execution_count": 16,
   "metadata": {},
   "outputs": [],
   "source": [
    "binary = []\n",
    "for col in data.columns:\n",
    "    if len(data[col].unique())==2:\n",
    "        binary.append(col)"
   ]
  },
  {
   "cell_type": "code",
   "execution_count": 17,
   "metadata": {},
   "outputs": [],
   "source": [
    "def enCode(x):\n",
    "    if x==\"Yes\":\n",
    "        return 1\n",
    "    else:\n",
    "        return 0\n",
    "for b in binary:\n",
    "    \n",
    "    data[b] = data[b].apply(enCode)"
   ]
  },
  {
   "cell_type": "code",
   "execution_count": 18,
   "metadata": {},
   "outputs": [
    {
     "data": {
      "text/plain": [
       "Fiber optic    3096\n",
       "DSL            2421\n",
       "No             1526\n",
       "Name: InternetService, dtype: int64"
      ]
     },
     "execution_count": 18,
     "metadata": {},
     "output_type": "execute_result"
    }
   ],
   "source": [
    "data.InternetService.value_counts()"
   ]
  },
  {
   "cell_type": "code",
   "execution_count": 19,
   "metadata": {},
   "outputs": [
    {
     "data": {
      "text/html": [
       "<div>\n",
       "<style scoped>\n",
       "    .dataframe tbody tr th:only-of-type {\n",
       "        vertical-align: middle;\n",
       "    }\n",
       "\n",
       "    .dataframe tbody tr th {\n",
       "        vertical-align: top;\n",
       "    }\n",
       "\n",
       "    .dataframe thead th {\n",
       "        text-align: right;\n",
       "    }\n",
       "</style>\n",
       "<table border=\"1\" class=\"dataframe\">\n",
       "  <thead>\n",
       "    <tr style=\"text-align: right;\">\n",
       "      <th></th>\n",
       "      <th>customerID</th>\n",
       "      <th>gender</th>\n",
       "      <th>SeniorCitizen</th>\n",
       "      <th>Partner</th>\n",
       "      <th>Dependents</th>\n",
       "      <th>tenure</th>\n",
       "      <th>PhoneService</th>\n",
       "      <th>MultipleLines</th>\n",
       "      <th>InternetService</th>\n",
       "      <th>OnlineSecurity</th>\n",
       "      <th>...</th>\n",
       "      <th>DeviceProtection</th>\n",
       "      <th>TechSupport</th>\n",
       "      <th>StreamingTV</th>\n",
       "      <th>StreamingMovies</th>\n",
       "      <th>Contract</th>\n",
       "      <th>PaperlessBilling</th>\n",
       "      <th>PaymentMethod</th>\n",
       "      <th>MonthlyCharges</th>\n",
       "      <th>TotalCharges</th>\n",
       "      <th>Churn</th>\n",
       "    </tr>\n",
       "  </thead>\n",
       "  <tbody>\n",
       "    <tr>\n",
       "      <th>0</th>\n",
       "      <td>7590-VHVEG</td>\n",
       "      <td>0</td>\n",
       "      <td>0</td>\n",
       "      <td>1</td>\n",
       "      <td>0</td>\n",
       "      <td>1</td>\n",
       "      <td>0</td>\n",
       "      <td>0</td>\n",
       "      <td>DSL</td>\n",
       "      <td>0</td>\n",
       "      <td>...</td>\n",
       "      <td>0</td>\n",
       "      <td>0</td>\n",
       "      <td>0</td>\n",
       "      <td>0</td>\n",
       "      <td>Month-to-month</td>\n",
       "      <td>1</td>\n",
       "      <td>Electronic check</td>\n",
       "      <td>29.85</td>\n",
       "      <td>29.85</td>\n",
       "      <td>0</td>\n",
       "    </tr>\n",
       "    <tr>\n",
       "      <th>1</th>\n",
       "      <td>5575-GNVDE</td>\n",
       "      <td>0</td>\n",
       "      <td>0</td>\n",
       "      <td>0</td>\n",
       "      <td>0</td>\n",
       "      <td>34</td>\n",
       "      <td>1</td>\n",
       "      <td>0</td>\n",
       "      <td>DSL</td>\n",
       "      <td>1</td>\n",
       "      <td>...</td>\n",
       "      <td>1</td>\n",
       "      <td>0</td>\n",
       "      <td>0</td>\n",
       "      <td>0</td>\n",
       "      <td>One year</td>\n",
       "      <td>0</td>\n",
       "      <td>Mailed check</td>\n",
       "      <td>56.95</td>\n",
       "      <td>1889.5</td>\n",
       "      <td>0</td>\n",
       "    </tr>\n",
       "    <tr>\n",
       "      <th>2</th>\n",
       "      <td>3668-QPYBK</td>\n",
       "      <td>0</td>\n",
       "      <td>0</td>\n",
       "      <td>0</td>\n",
       "      <td>0</td>\n",
       "      <td>2</td>\n",
       "      <td>1</td>\n",
       "      <td>0</td>\n",
       "      <td>DSL</td>\n",
       "      <td>1</td>\n",
       "      <td>...</td>\n",
       "      <td>0</td>\n",
       "      <td>0</td>\n",
       "      <td>0</td>\n",
       "      <td>0</td>\n",
       "      <td>Month-to-month</td>\n",
       "      <td>1</td>\n",
       "      <td>Mailed check</td>\n",
       "      <td>53.85</td>\n",
       "      <td>108.15</td>\n",
       "      <td>1</td>\n",
       "    </tr>\n",
       "    <tr>\n",
       "      <th>3</th>\n",
       "      <td>7795-CFOCW</td>\n",
       "      <td>0</td>\n",
       "      <td>0</td>\n",
       "      <td>0</td>\n",
       "      <td>0</td>\n",
       "      <td>45</td>\n",
       "      <td>0</td>\n",
       "      <td>0</td>\n",
       "      <td>DSL</td>\n",
       "      <td>1</td>\n",
       "      <td>...</td>\n",
       "      <td>1</td>\n",
       "      <td>1</td>\n",
       "      <td>0</td>\n",
       "      <td>0</td>\n",
       "      <td>One year</td>\n",
       "      <td>0</td>\n",
       "      <td>Bank transfer (automatic)</td>\n",
       "      <td>42.30</td>\n",
       "      <td>1840.75</td>\n",
       "      <td>0</td>\n",
       "    </tr>\n",
       "    <tr>\n",
       "      <th>4</th>\n",
       "      <td>9237-HQITU</td>\n",
       "      <td>0</td>\n",
       "      <td>0</td>\n",
       "      <td>0</td>\n",
       "      <td>0</td>\n",
       "      <td>2</td>\n",
       "      <td>1</td>\n",
       "      <td>0</td>\n",
       "      <td>Fiber optic</td>\n",
       "      <td>0</td>\n",
       "      <td>...</td>\n",
       "      <td>0</td>\n",
       "      <td>0</td>\n",
       "      <td>0</td>\n",
       "      <td>0</td>\n",
       "      <td>Month-to-month</td>\n",
       "      <td>1</td>\n",
       "      <td>Electronic check</td>\n",
       "      <td>70.70</td>\n",
       "      <td>151.65</td>\n",
       "      <td>1</td>\n",
       "    </tr>\n",
       "  </tbody>\n",
       "</table>\n",
       "<p>5 rows × 21 columns</p>\n",
       "</div>"
      ],
      "text/plain": [
       "   customerID  gender  SeniorCitizen  Partner  Dependents  tenure  \\\n",
       "0  7590-VHVEG       0              0        1           0       1   \n",
       "1  5575-GNVDE       0              0        0           0      34   \n",
       "2  3668-QPYBK       0              0        0           0       2   \n",
       "3  7795-CFOCW       0              0        0           0      45   \n",
       "4  9237-HQITU       0              0        0           0       2   \n",
       "\n",
       "   PhoneService  MultipleLines InternetService  OnlineSecurity  ...  \\\n",
       "0             0              0             DSL               0  ...   \n",
       "1             1              0             DSL               1  ...   \n",
       "2             1              0             DSL               1  ...   \n",
       "3             0              0             DSL               1  ...   \n",
       "4             1              0     Fiber optic               0  ...   \n",
       "\n",
       "   DeviceProtection  TechSupport  StreamingTV  StreamingMovies  \\\n",
       "0                 0            0            0                0   \n",
       "1                 1            0            0                0   \n",
       "2                 0            0            0                0   \n",
       "3                 1            1            0                0   \n",
       "4                 0            0            0                0   \n",
       "\n",
       "         Contract PaperlessBilling              PaymentMethod MonthlyCharges  \\\n",
       "0  Month-to-month                1           Electronic check          29.85   \n",
       "1        One year                0               Mailed check          56.95   \n",
       "2  Month-to-month                1               Mailed check          53.85   \n",
       "3        One year                0  Bank transfer (automatic)          42.30   \n",
       "4  Month-to-month                1           Electronic check          70.70   \n",
       "\n",
       "   TotalCharges Churn  \n",
       "0         29.85     0  \n",
       "1        1889.5     0  \n",
       "2        108.15     1  \n",
       "3       1840.75     0  \n",
       "4        151.65     1  \n",
       "\n",
       "[5 rows x 21 columns]"
      ]
     },
     "execution_count": 19,
     "metadata": {},
     "output_type": "execute_result"
    }
   ],
   "source": [
    "data.head()"
   ]
  },
  {
   "cell_type": "markdown",
   "metadata": {},
   "source": [
    "Then we carry out feature encoding for the non-binary categorical features"
   ]
  },
  {
   "cell_type": "code",
   "execution_count": 20,
   "metadata": {},
   "outputs": [],
   "source": [
    "InternetService_ = pd.get_dummies(data['InternetService'],drop_first=True)\n",
    "Contract_ = pd.get_dummies(data['Contract'],drop_first=True)\n",
    "PaymentMethod_ = pd.get_dummies(data['PaymentMethod'],drop_first=True)"
   ]
  },
  {
   "cell_type": "code",
   "execution_count": 21,
   "metadata": {},
   "outputs": [],
   "source": [
    "df = pd.concat([data, InternetService_, Contract_,  PaymentMethod_],axis=1)"
   ]
  },
  {
   "cell_type": "code",
   "execution_count": 22,
   "metadata": {},
   "outputs": [
    {
     "data": {
      "text/html": [
       "<div>\n",
       "<style scoped>\n",
       "    .dataframe tbody tr th:only-of-type {\n",
       "        vertical-align: middle;\n",
       "    }\n",
       "\n",
       "    .dataframe tbody tr th {\n",
       "        vertical-align: top;\n",
       "    }\n",
       "\n",
       "    .dataframe thead th {\n",
       "        text-align: right;\n",
       "    }\n",
       "</style>\n",
       "<table border=\"1\" class=\"dataframe\">\n",
       "  <thead>\n",
       "    <tr style=\"text-align: right;\">\n",
       "      <th></th>\n",
       "      <th>customerID</th>\n",
       "      <th>gender</th>\n",
       "      <th>SeniorCitizen</th>\n",
       "      <th>Partner</th>\n",
       "      <th>Dependents</th>\n",
       "      <th>tenure</th>\n",
       "      <th>PhoneService</th>\n",
       "      <th>MultipleLines</th>\n",
       "      <th>InternetService</th>\n",
       "      <th>OnlineSecurity</th>\n",
       "      <th>...</th>\n",
       "      <th>MonthlyCharges</th>\n",
       "      <th>TotalCharges</th>\n",
       "      <th>Churn</th>\n",
       "      <th>Fiber optic</th>\n",
       "      <th>No</th>\n",
       "      <th>One year</th>\n",
       "      <th>Two year</th>\n",
       "      <th>Credit card (automatic)</th>\n",
       "      <th>Electronic check</th>\n",
       "      <th>Mailed check</th>\n",
       "    </tr>\n",
       "  </thead>\n",
       "  <tbody>\n",
       "    <tr>\n",
       "      <th>0</th>\n",
       "      <td>7590-VHVEG</td>\n",
       "      <td>0</td>\n",
       "      <td>0</td>\n",
       "      <td>1</td>\n",
       "      <td>0</td>\n",
       "      <td>1</td>\n",
       "      <td>0</td>\n",
       "      <td>0</td>\n",
       "      <td>DSL</td>\n",
       "      <td>0</td>\n",
       "      <td>...</td>\n",
       "      <td>29.85</td>\n",
       "      <td>29.85</td>\n",
       "      <td>0</td>\n",
       "      <td>0</td>\n",
       "      <td>0</td>\n",
       "      <td>0</td>\n",
       "      <td>0</td>\n",
       "      <td>0</td>\n",
       "      <td>1</td>\n",
       "      <td>0</td>\n",
       "    </tr>\n",
       "    <tr>\n",
       "      <th>1</th>\n",
       "      <td>5575-GNVDE</td>\n",
       "      <td>0</td>\n",
       "      <td>0</td>\n",
       "      <td>0</td>\n",
       "      <td>0</td>\n",
       "      <td>34</td>\n",
       "      <td>1</td>\n",
       "      <td>0</td>\n",
       "      <td>DSL</td>\n",
       "      <td>1</td>\n",
       "      <td>...</td>\n",
       "      <td>56.95</td>\n",
       "      <td>1889.5</td>\n",
       "      <td>0</td>\n",
       "      <td>0</td>\n",
       "      <td>0</td>\n",
       "      <td>1</td>\n",
       "      <td>0</td>\n",
       "      <td>0</td>\n",
       "      <td>0</td>\n",
       "      <td>1</td>\n",
       "    </tr>\n",
       "    <tr>\n",
       "      <th>2</th>\n",
       "      <td>3668-QPYBK</td>\n",
       "      <td>0</td>\n",
       "      <td>0</td>\n",
       "      <td>0</td>\n",
       "      <td>0</td>\n",
       "      <td>2</td>\n",
       "      <td>1</td>\n",
       "      <td>0</td>\n",
       "      <td>DSL</td>\n",
       "      <td>1</td>\n",
       "      <td>...</td>\n",
       "      <td>53.85</td>\n",
       "      <td>108.15</td>\n",
       "      <td>1</td>\n",
       "      <td>0</td>\n",
       "      <td>0</td>\n",
       "      <td>0</td>\n",
       "      <td>0</td>\n",
       "      <td>0</td>\n",
       "      <td>0</td>\n",
       "      <td>1</td>\n",
       "    </tr>\n",
       "    <tr>\n",
       "      <th>3</th>\n",
       "      <td>7795-CFOCW</td>\n",
       "      <td>0</td>\n",
       "      <td>0</td>\n",
       "      <td>0</td>\n",
       "      <td>0</td>\n",
       "      <td>45</td>\n",
       "      <td>0</td>\n",
       "      <td>0</td>\n",
       "      <td>DSL</td>\n",
       "      <td>1</td>\n",
       "      <td>...</td>\n",
       "      <td>42.30</td>\n",
       "      <td>1840.75</td>\n",
       "      <td>0</td>\n",
       "      <td>0</td>\n",
       "      <td>0</td>\n",
       "      <td>1</td>\n",
       "      <td>0</td>\n",
       "      <td>0</td>\n",
       "      <td>0</td>\n",
       "      <td>0</td>\n",
       "    </tr>\n",
       "    <tr>\n",
       "      <th>4</th>\n",
       "      <td>9237-HQITU</td>\n",
       "      <td>0</td>\n",
       "      <td>0</td>\n",
       "      <td>0</td>\n",
       "      <td>0</td>\n",
       "      <td>2</td>\n",
       "      <td>1</td>\n",
       "      <td>0</td>\n",
       "      <td>Fiber optic</td>\n",
       "      <td>0</td>\n",
       "      <td>...</td>\n",
       "      <td>70.70</td>\n",
       "      <td>151.65</td>\n",
       "      <td>1</td>\n",
       "      <td>1</td>\n",
       "      <td>0</td>\n",
       "      <td>0</td>\n",
       "      <td>0</td>\n",
       "      <td>0</td>\n",
       "      <td>1</td>\n",
       "      <td>0</td>\n",
       "    </tr>\n",
       "  </tbody>\n",
       "</table>\n",
       "<p>5 rows × 28 columns</p>\n",
       "</div>"
      ],
      "text/plain": [
       "   customerID  gender  SeniorCitizen  Partner  Dependents  tenure  \\\n",
       "0  7590-VHVEG       0              0        1           0       1   \n",
       "1  5575-GNVDE       0              0        0           0      34   \n",
       "2  3668-QPYBK       0              0        0           0       2   \n",
       "3  7795-CFOCW       0              0        0           0      45   \n",
       "4  9237-HQITU       0              0        0           0       2   \n",
       "\n",
       "   PhoneService  MultipleLines InternetService  OnlineSecurity  ...  \\\n",
       "0             0              0             DSL               0  ...   \n",
       "1             1              0             DSL               1  ...   \n",
       "2             1              0             DSL               1  ...   \n",
       "3             0              0             DSL               1  ...   \n",
       "4             1              0     Fiber optic               0  ...   \n",
       "\n",
       "   MonthlyCharges  TotalCharges  Churn  Fiber optic  No One year  Two year  \\\n",
       "0           29.85         29.85      0            0   0        0         0   \n",
       "1           56.95        1889.5      0            0   0        1         0   \n",
       "2           53.85        108.15      1            0   0        0         0   \n",
       "3           42.30       1840.75      0            0   0        1         0   \n",
       "4           70.70        151.65      1            1   0        0         0   \n",
       "\n",
       "  Credit card (automatic)  Electronic check Mailed check  \n",
       "0                       0                 1            0  \n",
       "1                       0                 0            1  \n",
       "2                       0                 0            1  \n",
       "3                       0                 0            0  \n",
       "4                       0                 1            0  \n",
       "\n",
       "[5 rows x 28 columns]"
      ]
     },
     "execution_count": 22,
     "metadata": {},
     "output_type": "execute_result"
    }
   ],
   "source": [
    "df.head()"
   ]
  },
  {
   "cell_type": "code",
   "execution_count": 23,
   "metadata": {},
   "outputs": [],
   "source": [
    "df.drop([\"InternetService\",\"Contract\", \"PaymentMethod\"], axis=1, inplace=True)"
   ]
  },
  {
   "cell_type": "code",
   "execution_count": 24,
   "metadata": {},
   "outputs": [
    {
     "data": {
      "text/html": [
       "<div>\n",
       "<style scoped>\n",
       "    .dataframe tbody tr th:only-of-type {\n",
       "        vertical-align: middle;\n",
       "    }\n",
       "\n",
       "    .dataframe tbody tr th {\n",
       "        vertical-align: top;\n",
       "    }\n",
       "\n",
       "    .dataframe thead th {\n",
       "        text-align: right;\n",
       "    }\n",
       "</style>\n",
       "<table border=\"1\" class=\"dataframe\">\n",
       "  <thead>\n",
       "    <tr style=\"text-align: right;\">\n",
       "      <th></th>\n",
       "      <th>customerID</th>\n",
       "      <th>gender</th>\n",
       "      <th>SeniorCitizen</th>\n",
       "      <th>Partner</th>\n",
       "      <th>Dependents</th>\n",
       "      <th>tenure</th>\n",
       "      <th>PhoneService</th>\n",
       "      <th>MultipleLines</th>\n",
       "      <th>OnlineSecurity</th>\n",
       "      <th>OnlineBackup</th>\n",
       "      <th>...</th>\n",
       "      <th>MonthlyCharges</th>\n",
       "      <th>TotalCharges</th>\n",
       "      <th>Churn</th>\n",
       "      <th>Fiber optic</th>\n",
       "      <th>No</th>\n",
       "      <th>One year</th>\n",
       "      <th>Two year</th>\n",
       "      <th>Credit card (automatic)</th>\n",
       "      <th>Electronic check</th>\n",
       "      <th>Mailed check</th>\n",
       "    </tr>\n",
       "  </thead>\n",
       "  <tbody>\n",
       "    <tr>\n",
       "      <th>0</th>\n",
       "      <td>7590-VHVEG</td>\n",
       "      <td>0</td>\n",
       "      <td>0</td>\n",
       "      <td>1</td>\n",
       "      <td>0</td>\n",
       "      <td>1</td>\n",
       "      <td>0</td>\n",
       "      <td>0</td>\n",
       "      <td>0</td>\n",
       "      <td>1</td>\n",
       "      <td>...</td>\n",
       "      <td>29.85</td>\n",
       "      <td>29.85</td>\n",
       "      <td>0</td>\n",
       "      <td>0</td>\n",
       "      <td>0</td>\n",
       "      <td>0</td>\n",
       "      <td>0</td>\n",
       "      <td>0</td>\n",
       "      <td>1</td>\n",
       "      <td>0</td>\n",
       "    </tr>\n",
       "    <tr>\n",
       "      <th>1</th>\n",
       "      <td>5575-GNVDE</td>\n",
       "      <td>0</td>\n",
       "      <td>0</td>\n",
       "      <td>0</td>\n",
       "      <td>0</td>\n",
       "      <td>34</td>\n",
       "      <td>1</td>\n",
       "      <td>0</td>\n",
       "      <td>1</td>\n",
       "      <td>0</td>\n",
       "      <td>...</td>\n",
       "      <td>56.95</td>\n",
       "      <td>1889.5</td>\n",
       "      <td>0</td>\n",
       "      <td>0</td>\n",
       "      <td>0</td>\n",
       "      <td>1</td>\n",
       "      <td>0</td>\n",
       "      <td>0</td>\n",
       "      <td>0</td>\n",
       "      <td>1</td>\n",
       "    </tr>\n",
       "    <tr>\n",
       "      <th>2</th>\n",
       "      <td>3668-QPYBK</td>\n",
       "      <td>0</td>\n",
       "      <td>0</td>\n",
       "      <td>0</td>\n",
       "      <td>0</td>\n",
       "      <td>2</td>\n",
       "      <td>1</td>\n",
       "      <td>0</td>\n",
       "      <td>1</td>\n",
       "      <td>1</td>\n",
       "      <td>...</td>\n",
       "      <td>53.85</td>\n",
       "      <td>108.15</td>\n",
       "      <td>1</td>\n",
       "      <td>0</td>\n",
       "      <td>0</td>\n",
       "      <td>0</td>\n",
       "      <td>0</td>\n",
       "      <td>0</td>\n",
       "      <td>0</td>\n",
       "      <td>1</td>\n",
       "    </tr>\n",
       "    <tr>\n",
       "      <th>3</th>\n",
       "      <td>7795-CFOCW</td>\n",
       "      <td>0</td>\n",
       "      <td>0</td>\n",
       "      <td>0</td>\n",
       "      <td>0</td>\n",
       "      <td>45</td>\n",
       "      <td>0</td>\n",
       "      <td>0</td>\n",
       "      <td>1</td>\n",
       "      <td>0</td>\n",
       "      <td>...</td>\n",
       "      <td>42.30</td>\n",
       "      <td>1840.75</td>\n",
       "      <td>0</td>\n",
       "      <td>0</td>\n",
       "      <td>0</td>\n",
       "      <td>1</td>\n",
       "      <td>0</td>\n",
       "      <td>0</td>\n",
       "      <td>0</td>\n",
       "      <td>0</td>\n",
       "    </tr>\n",
       "    <tr>\n",
       "      <th>4</th>\n",
       "      <td>9237-HQITU</td>\n",
       "      <td>0</td>\n",
       "      <td>0</td>\n",
       "      <td>0</td>\n",
       "      <td>0</td>\n",
       "      <td>2</td>\n",
       "      <td>1</td>\n",
       "      <td>0</td>\n",
       "      <td>0</td>\n",
       "      <td>0</td>\n",
       "      <td>...</td>\n",
       "      <td>70.70</td>\n",
       "      <td>151.65</td>\n",
       "      <td>1</td>\n",
       "      <td>1</td>\n",
       "      <td>0</td>\n",
       "      <td>0</td>\n",
       "      <td>0</td>\n",
       "      <td>0</td>\n",
       "      <td>1</td>\n",
       "      <td>0</td>\n",
       "    </tr>\n",
       "  </tbody>\n",
       "</table>\n",
       "<p>5 rows × 25 columns</p>\n",
       "</div>"
      ],
      "text/plain": [
       "   customerID  gender  SeniorCitizen  Partner  Dependents  tenure  \\\n",
       "0  7590-VHVEG       0              0        1           0       1   \n",
       "1  5575-GNVDE       0              0        0           0      34   \n",
       "2  3668-QPYBK       0              0        0           0       2   \n",
       "3  7795-CFOCW       0              0        0           0      45   \n",
       "4  9237-HQITU       0              0        0           0       2   \n",
       "\n",
       "   PhoneService  MultipleLines  OnlineSecurity  OnlineBackup  ...  \\\n",
       "0             0              0               0             1  ...   \n",
       "1             1              0               1             0  ...   \n",
       "2             1              0               1             1  ...   \n",
       "3             0              0               1             0  ...   \n",
       "4             1              0               0             0  ...   \n",
       "\n",
       "   MonthlyCharges  TotalCharges  Churn  Fiber optic  No  One year Two year  \\\n",
       "0           29.85         29.85      0            0   0         0        0   \n",
       "1           56.95        1889.5      0            0   0         1        0   \n",
       "2           53.85        108.15      1            0   0         0        0   \n",
       "3           42.30       1840.75      0            0   0         1        0   \n",
       "4           70.70        151.65      1            1   0         0        0   \n",
       "\n",
       "   Credit card (automatic)  Electronic check  Mailed check  \n",
       "0                        0                 1             0  \n",
       "1                        0                 0             1  \n",
       "2                        0                 0             1  \n",
       "3                        0                 0             0  \n",
       "4                        0                 1             0  \n",
       "\n",
       "[5 rows x 25 columns]"
      ]
     },
     "execution_count": 24,
     "metadata": {},
     "output_type": "execute_result"
    }
   ],
   "source": [
    "df.head()"
   ]
  },
  {
   "cell_type": "code",
   "execution_count": 25,
   "metadata": {},
   "outputs": [],
   "source": [
    "df.drop([\"customerID\"], axis=1, inplace=True)"
   ]
  },
  {
   "cell_type": "code",
   "execution_count": 26,
   "metadata": {},
   "outputs": [
    {
     "data": {
      "text/html": [
       "<div>\n",
       "<style scoped>\n",
       "    .dataframe tbody tr th:only-of-type {\n",
       "        vertical-align: middle;\n",
       "    }\n",
       "\n",
       "    .dataframe tbody tr th {\n",
       "        vertical-align: top;\n",
       "    }\n",
       "\n",
       "    .dataframe thead th {\n",
       "        text-align: right;\n",
       "    }\n",
       "</style>\n",
       "<table border=\"1\" class=\"dataframe\">\n",
       "  <thead>\n",
       "    <tr style=\"text-align: right;\">\n",
       "      <th></th>\n",
       "      <th>gender</th>\n",
       "      <th>SeniorCitizen</th>\n",
       "      <th>Partner</th>\n",
       "      <th>Dependents</th>\n",
       "      <th>tenure</th>\n",
       "      <th>PhoneService</th>\n",
       "      <th>MultipleLines</th>\n",
       "      <th>OnlineSecurity</th>\n",
       "      <th>OnlineBackup</th>\n",
       "      <th>DeviceProtection</th>\n",
       "      <th>...</th>\n",
       "      <th>MonthlyCharges</th>\n",
       "      <th>TotalCharges</th>\n",
       "      <th>Churn</th>\n",
       "      <th>Fiber optic</th>\n",
       "      <th>No</th>\n",
       "      <th>One year</th>\n",
       "      <th>Two year</th>\n",
       "      <th>Credit card (automatic)</th>\n",
       "      <th>Electronic check</th>\n",
       "      <th>Mailed check</th>\n",
       "    </tr>\n",
       "  </thead>\n",
       "  <tbody>\n",
       "    <tr>\n",
       "      <th>0</th>\n",
       "      <td>0</td>\n",
       "      <td>0</td>\n",
       "      <td>1</td>\n",
       "      <td>0</td>\n",
       "      <td>1</td>\n",
       "      <td>0</td>\n",
       "      <td>0</td>\n",
       "      <td>0</td>\n",
       "      <td>1</td>\n",
       "      <td>0</td>\n",
       "      <td>...</td>\n",
       "      <td>29.85</td>\n",
       "      <td>29.85</td>\n",
       "      <td>0</td>\n",
       "      <td>0</td>\n",
       "      <td>0</td>\n",
       "      <td>0</td>\n",
       "      <td>0</td>\n",
       "      <td>0</td>\n",
       "      <td>1</td>\n",
       "      <td>0</td>\n",
       "    </tr>\n",
       "    <tr>\n",
       "      <th>1</th>\n",
       "      <td>0</td>\n",
       "      <td>0</td>\n",
       "      <td>0</td>\n",
       "      <td>0</td>\n",
       "      <td>34</td>\n",
       "      <td>1</td>\n",
       "      <td>0</td>\n",
       "      <td>1</td>\n",
       "      <td>0</td>\n",
       "      <td>1</td>\n",
       "      <td>...</td>\n",
       "      <td>56.95</td>\n",
       "      <td>1889.5</td>\n",
       "      <td>0</td>\n",
       "      <td>0</td>\n",
       "      <td>0</td>\n",
       "      <td>1</td>\n",
       "      <td>0</td>\n",
       "      <td>0</td>\n",
       "      <td>0</td>\n",
       "      <td>1</td>\n",
       "    </tr>\n",
       "    <tr>\n",
       "      <th>2</th>\n",
       "      <td>0</td>\n",
       "      <td>0</td>\n",
       "      <td>0</td>\n",
       "      <td>0</td>\n",
       "      <td>2</td>\n",
       "      <td>1</td>\n",
       "      <td>0</td>\n",
       "      <td>1</td>\n",
       "      <td>1</td>\n",
       "      <td>0</td>\n",
       "      <td>...</td>\n",
       "      <td>53.85</td>\n",
       "      <td>108.15</td>\n",
       "      <td>1</td>\n",
       "      <td>0</td>\n",
       "      <td>0</td>\n",
       "      <td>0</td>\n",
       "      <td>0</td>\n",
       "      <td>0</td>\n",
       "      <td>0</td>\n",
       "      <td>1</td>\n",
       "    </tr>\n",
       "    <tr>\n",
       "      <th>3</th>\n",
       "      <td>0</td>\n",
       "      <td>0</td>\n",
       "      <td>0</td>\n",
       "      <td>0</td>\n",
       "      <td>45</td>\n",
       "      <td>0</td>\n",
       "      <td>0</td>\n",
       "      <td>1</td>\n",
       "      <td>0</td>\n",
       "      <td>1</td>\n",
       "      <td>...</td>\n",
       "      <td>42.30</td>\n",
       "      <td>1840.75</td>\n",
       "      <td>0</td>\n",
       "      <td>0</td>\n",
       "      <td>0</td>\n",
       "      <td>1</td>\n",
       "      <td>0</td>\n",
       "      <td>0</td>\n",
       "      <td>0</td>\n",
       "      <td>0</td>\n",
       "    </tr>\n",
       "    <tr>\n",
       "      <th>4</th>\n",
       "      <td>0</td>\n",
       "      <td>0</td>\n",
       "      <td>0</td>\n",
       "      <td>0</td>\n",
       "      <td>2</td>\n",
       "      <td>1</td>\n",
       "      <td>0</td>\n",
       "      <td>0</td>\n",
       "      <td>0</td>\n",
       "      <td>0</td>\n",
       "      <td>...</td>\n",
       "      <td>70.70</td>\n",
       "      <td>151.65</td>\n",
       "      <td>1</td>\n",
       "      <td>1</td>\n",
       "      <td>0</td>\n",
       "      <td>0</td>\n",
       "      <td>0</td>\n",
       "      <td>0</td>\n",
       "      <td>1</td>\n",
       "      <td>0</td>\n",
       "    </tr>\n",
       "  </tbody>\n",
       "</table>\n",
       "<p>5 rows × 24 columns</p>\n",
       "</div>"
      ],
      "text/plain": [
       "   gender  SeniorCitizen  Partner  Dependents  tenure  PhoneService  \\\n",
       "0       0              0        1           0       1             0   \n",
       "1       0              0        0           0      34             1   \n",
       "2       0              0        0           0       2             1   \n",
       "3       0              0        0           0      45             0   \n",
       "4       0              0        0           0       2             1   \n",
       "\n",
       "   MultipleLines  OnlineSecurity  OnlineBackup  DeviceProtection  ...  \\\n",
       "0              0               0             1                 0  ...   \n",
       "1              0               1             0                 1  ...   \n",
       "2              0               1             1                 0  ...   \n",
       "3              0               1             0                 1  ...   \n",
       "4              0               0             0                 0  ...   \n",
       "\n",
       "   MonthlyCharges  TotalCharges  Churn  Fiber optic  No One year  Two year  \\\n",
       "0           29.85         29.85      0            0   0        0         0   \n",
       "1           56.95        1889.5      0            0   0        1         0   \n",
       "2           53.85        108.15      1            0   0        0         0   \n",
       "3           42.30       1840.75      0            0   0        1         0   \n",
       "4           70.70        151.65      1            1   0        0         0   \n",
       "\n",
       "   Credit card (automatic)  Electronic check  Mailed check  \n",
       "0                        0                 1             0  \n",
       "1                        0                 0             1  \n",
       "2                        0                 0             1  \n",
       "3                        0                 0             0  \n",
       "4                        0                 1             0  \n",
       "\n",
       "[5 rows x 24 columns]"
      ]
     },
     "execution_count": 26,
     "metadata": {},
     "output_type": "execute_result"
    }
   ],
   "source": [
    "df.head()"
   ]
  },
  {
   "cell_type": "markdown",
   "metadata": {},
   "source": [
    "### Feature Scaling\n",
    "\n",
    "Here we normalize the numerical features so we can have less biased results when we apply SVM and to speed up convergence when we optimize our neural network."
   ]
  },
  {
   "cell_type": "markdown",
   "metadata": {},
   "source": [
    "Let us check the variable type for our different features and coerce them to float or int type where necessary."
   ]
  },
  {
   "cell_type": "code",
   "execution_count": 27,
   "metadata": {},
   "outputs": [
    {
     "name": "stdout",
     "output_type": "stream",
     "text": [
      "<class 'pandas.core.frame.DataFrame'>\n",
      "RangeIndex: 7043 entries, 0 to 7042\n",
      "Data columns (total 24 columns):\n",
      "gender                     7043 non-null int64\n",
      "SeniorCitizen              7043 non-null int64\n",
      "Partner                    7043 non-null int64\n",
      "Dependents                 7043 non-null int64\n",
      "tenure                     7043 non-null int64\n",
      "PhoneService               7043 non-null int64\n",
      "MultipleLines              7043 non-null int64\n",
      "OnlineSecurity             7043 non-null int64\n",
      "OnlineBackup               7043 non-null int64\n",
      "DeviceProtection           7043 non-null int64\n",
      "TechSupport                7043 non-null int64\n",
      "StreamingTV                7043 non-null int64\n",
      "StreamingMovies            7043 non-null int64\n",
      "PaperlessBilling           7043 non-null int64\n",
      "MonthlyCharges             7043 non-null float64\n",
      "TotalCharges               7043 non-null object\n",
      "Churn                      7043 non-null int64\n",
      "Fiber optic                7043 non-null uint8\n",
      "No                         7043 non-null uint8\n",
      "One year                   7043 non-null uint8\n",
      "Two year                   7043 non-null uint8\n",
      "Credit card (automatic)    7043 non-null uint8\n",
      "Electronic check           7043 non-null uint8\n",
      "Mailed check               7043 non-null uint8\n",
      "dtypes: float64(1), int64(15), object(1), uint8(7)\n",
      "memory usage: 983.6+ KB\n"
     ]
    }
   ],
   "source": [
    "df.info()"
   ]
  },
  {
   "cell_type": "markdown",
   "metadata": {},
   "source": [
    "We see that the TotalCharges column is not of numeric type so we coerce it to float in order to use this column for computations."
   ]
  },
  {
   "cell_type": "code",
   "execution_count": 28,
   "metadata": {},
   "outputs": [
    {
     "name": "stdout",
     "output_type": "stream",
     "text": [
      "<class 'pandas.core.frame.DataFrame'>\n",
      "RangeIndex: 7043 entries, 0 to 7042\n",
      "Data columns (total 24 columns):\n",
      "gender                     7043 non-null int64\n",
      "SeniorCitizen              7043 non-null int64\n",
      "Partner                    7043 non-null int64\n",
      "Dependents                 7043 non-null int64\n",
      "tenure                     7043 non-null int64\n",
      "PhoneService               7043 non-null int64\n",
      "MultipleLines              7043 non-null int64\n",
      "OnlineSecurity             7043 non-null int64\n",
      "OnlineBackup               7043 non-null int64\n",
      "DeviceProtection           7043 non-null int64\n",
      "TechSupport                7043 non-null int64\n",
      "StreamingTV                7043 non-null int64\n",
      "StreamingMovies            7043 non-null int64\n",
      "PaperlessBilling           7043 non-null int64\n",
      "MonthlyCharges             7043 non-null float64\n",
      "TotalCharges               7043 non-null float64\n",
      "Churn                      7043 non-null int64\n",
      "Fiber optic                7043 non-null uint8\n",
      "No                         7043 non-null uint8\n",
      "One year                   7043 non-null uint8\n",
      "Two year                   7043 non-null uint8\n",
      "Credit card (automatic)    7043 non-null uint8\n",
      "Electronic check           7043 non-null uint8\n",
      "Mailed check               7043 non-null uint8\n",
      "dtypes: float64(2), int64(15), uint8(7)\n",
      "memory usage: 983.6 KB\n"
     ]
    }
   ],
   "source": [
    "total=[]\n",
    "for i in range(df.shape[0]):\n",
    "    total.append(round(df.tenure[i]*df.MonthlyCharges[i],2))\n",
    "\n",
    "df.TotalCharges = total\n",
    "df.info()"
   ]
  },
  {
   "cell_type": "code",
   "execution_count": 29,
   "metadata": {},
   "outputs": [],
   "source": [
    "numeric = [\"tenure\", \"MonthlyCharges\", \"TotalCharges\"]"
   ]
  },
  {
   "cell_type": "code",
   "execution_count": 30,
   "metadata": {},
   "outputs": [
    {
     "data": {
      "text/plain": [
       "72"
      ]
     },
     "execution_count": 30,
     "metadata": {},
     "output_type": "execute_result"
    }
   ],
   "source": [
    "max(df[\"tenure\"])"
   ]
  },
  {
   "cell_type": "markdown",
   "metadata": {},
   "source": [
    "We carry out Min-Max scaling in the following block of code:"
   ]
  },
  {
   "cell_type": "code",
   "execution_count": 31,
   "metadata": {},
   "outputs": [],
   "source": [
    "#Min-Max scaling\n",
    "for feature in numeric:\n",
    "    scaled=[]\n",
    "    lo, hi = min(df[feature]), max(df[feature])\n",
    "    for i in range(df.shape[0]):\n",
    "        x = (df[feature][i]-lo)/(hi-lo)\n",
    "        scaled.append(round(x,2))\n",
    "    df[feature] = scaled"
   ]
  },
  {
   "cell_type": "code",
   "execution_count": 32,
   "metadata": {},
   "outputs": [
    {
     "data": {
      "text/html": [
       "<div>\n",
       "<style scoped>\n",
       "    .dataframe tbody tr th:only-of-type {\n",
       "        vertical-align: middle;\n",
       "    }\n",
       "\n",
       "    .dataframe tbody tr th {\n",
       "        vertical-align: top;\n",
       "    }\n",
       "\n",
       "    .dataframe thead th {\n",
       "        text-align: right;\n",
       "    }\n",
       "</style>\n",
       "<table border=\"1\" class=\"dataframe\">\n",
       "  <thead>\n",
       "    <tr style=\"text-align: right;\">\n",
       "      <th></th>\n",
       "      <th>gender</th>\n",
       "      <th>SeniorCitizen</th>\n",
       "      <th>Partner</th>\n",
       "      <th>Dependents</th>\n",
       "      <th>tenure</th>\n",
       "      <th>PhoneService</th>\n",
       "      <th>MultipleLines</th>\n",
       "      <th>OnlineSecurity</th>\n",
       "      <th>OnlineBackup</th>\n",
       "      <th>DeviceProtection</th>\n",
       "      <th>...</th>\n",
       "      <th>MonthlyCharges</th>\n",
       "      <th>TotalCharges</th>\n",
       "      <th>Churn</th>\n",
       "      <th>Fiber optic</th>\n",
       "      <th>No</th>\n",
       "      <th>One year</th>\n",
       "      <th>Two year</th>\n",
       "      <th>Credit card (automatic)</th>\n",
       "      <th>Electronic check</th>\n",
       "      <th>Mailed check</th>\n",
       "    </tr>\n",
       "  </thead>\n",
       "  <tbody>\n",
       "    <tr>\n",
       "      <th>0</th>\n",
       "      <td>0</td>\n",
       "      <td>0</td>\n",
       "      <td>1</td>\n",
       "      <td>0</td>\n",
       "      <td>0.01</td>\n",
       "      <td>0</td>\n",
       "      <td>0</td>\n",
       "      <td>0</td>\n",
       "      <td>1</td>\n",
       "      <td>0</td>\n",
       "      <td>...</td>\n",
       "      <td>0.12</td>\n",
       "      <td>0.00</td>\n",
       "      <td>0</td>\n",
       "      <td>0</td>\n",
       "      <td>0</td>\n",
       "      <td>0</td>\n",
       "      <td>0</td>\n",
       "      <td>0</td>\n",
       "      <td>1</td>\n",
       "      <td>0</td>\n",
       "    </tr>\n",
       "    <tr>\n",
       "      <th>1</th>\n",
       "      <td>0</td>\n",
       "      <td>0</td>\n",
       "      <td>0</td>\n",
       "      <td>0</td>\n",
       "      <td>0.47</td>\n",
       "      <td>1</td>\n",
       "      <td>0</td>\n",
       "      <td>1</td>\n",
       "      <td>0</td>\n",
       "      <td>1</td>\n",
       "      <td>...</td>\n",
       "      <td>0.39</td>\n",
       "      <td>0.23</td>\n",
       "      <td>0</td>\n",
       "      <td>0</td>\n",
       "      <td>0</td>\n",
       "      <td>1</td>\n",
       "      <td>0</td>\n",
       "      <td>0</td>\n",
       "      <td>0</td>\n",
       "      <td>1</td>\n",
       "    </tr>\n",
       "    <tr>\n",
       "      <th>2</th>\n",
       "      <td>0</td>\n",
       "      <td>0</td>\n",
       "      <td>0</td>\n",
       "      <td>0</td>\n",
       "      <td>0.03</td>\n",
       "      <td>1</td>\n",
       "      <td>0</td>\n",
       "      <td>1</td>\n",
       "      <td>1</td>\n",
       "      <td>0</td>\n",
       "      <td>...</td>\n",
       "      <td>0.35</td>\n",
       "      <td>0.01</td>\n",
       "      <td>1</td>\n",
       "      <td>0</td>\n",
       "      <td>0</td>\n",
       "      <td>0</td>\n",
       "      <td>0</td>\n",
       "      <td>0</td>\n",
       "      <td>0</td>\n",
       "      <td>1</td>\n",
       "    </tr>\n",
       "    <tr>\n",
       "      <th>3</th>\n",
       "      <td>0</td>\n",
       "      <td>0</td>\n",
       "      <td>0</td>\n",
       "      <td>0</td>\n",
       "      <td>0.62</td>\n",
       "      <td>0</td>\n",
       "      <td>0</td>\n",
       "      <td>1</td>\n",
       "      <td>0</td>\n",
       "      <td>1</td>\n",
       "      <td>...</td>\n",
       "      <td>0.24</td>\n",
       "      <td>0.22</td>\n",
       "      <td>0</td>\n",
       "      <td>0</td>\n",
       "      <td>0</td>\n",
       "      <td>1</td>\n",
       "      <td>0</td>\n",
       "      <td>0</td>\n",
       "      <td>0</td>\n",
       "      <td>0</td>\n",
       "    </tr>\n",
       "    <tr>\n",
       "      <th>4</th>\n",
       "      <td>0</td>\n",
       "      <td>0</td>\n",
       "      <td>0</td>\n",
       "      <td>0</td>\n",
       "      <td>0.03</td>\n",
       "      <td>1</td>\n",
       "      <td>0</td>\n",
       "      <td>0</td>\n",
       "      <td>0</td>\n",
       "      <td>0</td>\n",
       "      <td>...</td>\n",
       "      <td>0.52</td>\n",
       "      <td>0.02</td>\n",
       "      <td>1</td>\n",
       "      <td>1</td>\n",
       "      <td>0</td>\n",
       "      <td>0</td>\n",
       "      <td>0</td>\n",
       "      <td>0</td>\n",
       "      <td>1</td>\n",
       "      <td>0</td>\n",
       "    </tr>\n",
       "  </tbody>\n",
       "</table>\n",
       "<p>5 rows × 24 columns</p>\n",
       "</div>"
      ],
      "text/plain": [
       "   gender  SeniorCitizen  Partner  Dependents  tenure  PhoneService  \\\n",
       "0       0              0        1           0    0.01             0   \n",
       "1       0              0        0           0    0.47             1   \n",
       "2       0              0        0           0    0.03             1   \n",
       "3       0              0        0           0    0.62             0   \n",
       "4       0              0        0           0    0.03             1   \n",
       "\n",
       "   MultipleLines  OnlineSecurity  OnlineBackup  DeviceProtection  ...  \\\n",
       "0              0               0             1                 0  ...   \n",
       "1              0               1             0                 1  ...   \n",
       "2              0               1             1                 0  ...   \n",
       "3              0               1             0                 1  ...   \n",
       "4              0               0             0                 0  ...   \n",
       "\n",
       "   MonthlyCharges  TotalCharges  Churn  Fiber optic  No  One year  Two year  \\\n",
       "0            0.12          0.00      0            0   0         0         0   \n",
       "1            0.39          0.23      0            0   0         1         0   \n",
       "2            0.35          0.01      1            0   0         0         0   \n",
       "3            0.24          0.22      0            0   0         1         0   \n",
       "4            0.52          0.02      1            1   0         0         0   \n",
       "\n",
       "   Credit card (automatic)  Electronic check  Mailed check  \n",
       "0                        0                 1             0  \n",
       "1                        0                 0             1  \n",
       "2                        0                 0             1  \n",
       "3                        0                 0             0  \n",
       "4                        0                 1             0  \n",
       "\n",
       "[5 rows x 24 columns]"
      ]
     },
     "execution_count": 32,
     "metadata": {},
     "output_type": "execute_result"
    }
   ],
   "source": [
    "df.head()"
   ]
  },
  {
   "cell_type": "markdown",
   "metadata": {},
   "source": [
    "## Dataset Split\n",
    "\n",
    "In this section, we split our data into train, validation, and test sets using a ratio of 70-20-10."
   ]
  },
  {
   "cell_type": "code",
   "execution_count": 33,
   "metadata": {},
   "outputs": [],
   "source": [
    "y = df[\"Churn\"]"
   ]
  },
  {
   "cell_type": "code",
   "execution_count": 34,
   "metadata": {},
   "outputs": [],
   "source": [
    "X = df.drop([\"Churn\"], axis=1)"
   ]
  },
  {
   "cell_type": "code",
   "execution_count": 35,
   "metadata": {},
   "outputs": [
    {
     "data": {
      "text/html": [
       "<div>\n",
       "<style scoped>\n",
       "    .dataframe tbody tr th:only-of-type {\n",
       "        vertical-align: middle;\n",
       "    }\n",
       "\n",
       "    .dataframe tbody tr th {\n",
       "        vertical-align: top;\n",
       "    }\n",
       "\n",
       "    .dataframe thead th {\n",
       "        text-align: right;\n",
       "    }\n",
       "</style>\n",
       "<table border=\"1\" class=\"dataframe\">\n",
       "  <thead>\n",
       "    <tr style=\"text-align: right;\">\n",
       "      <th></th>\n",
       "      <th>gender</th>\n",
       "      <th>SeniorCitizen</th>\n",
       "      <th>Partner</th>\n",
       "      <th>Dependents</th>\n",
       "      <th>tenure</th>\n",
       "      <th>PhoneService</th>\n",
       "      <th>MultipleLines</th>\n",
       "      <th>OnlineSecurity</th>\n",
       "      <th>OnlineBackup</th>\n",
       "      <th>DeviceProtection</th>\n",
       "      <th>...</th>\n",
       "      <th>PaperlessBilling</th>\n",
       "      <th>MonthlyCharges</th>\n",
       "      <th>TotalCharges</th>\n",
       "      <th>Fiber optic</th>\n",
       "      <th>No</th>\n",
       "      <th>One year</th>\n",
       "      <th>Two year</th>\n",
       "      <th>Credit card (automatic)</th>\n",
       "      <th>Electronic check</th>\n",
       "      <th>Mailed check</th>\n",
       "    </tr>\n",
       "  </thead>\n",
       "  <tbody>\n",
       "    <tr>\n",
       "      <th>0</th>\n",
       "      <td>0</td>\n",
       "      <td>0</td>\n",
       "      <td>1</td>\n",
       "      <td>0</td>\n",
       "      <td>0.01</td>\n",
       "      <td>0</td>\n",
       "      <td>0</td>\n",
       "      <td>0</td>\n",
       "      <td>1</td>\n",
       "      <td>0</td>\n",
       "      <td>...</td>\n",
       "      <td>1</td>\n",
       "      <td>0.12</td>\n",
       "      <td>0.00</td>\n",
       "      <td>0</td>\n",
       "      <td>0</td>\n",
       "      <td>0</td>\n",
       "      <td>0</td>\n",
       "      <td>0</td>\n",
       "      <td>1</td>\n",
       "      <td>0</td>\n",
       "    </tr>\n",
       "    <tr>\n",
       "      <th>1</th>\n",
       "      <td>0</td>\n",
       "      <td>0</td>\n",
       "      <td>0</td>\n",
       "      <td>0</td>\n",
       "      <td>0.47</td>\n",
       "      <td>1</td>\n",
       "      <td>0</td>\n",
       "      <td>1</td>\n",
       "      <td>0</td>\n",
       "      <td>1</td>\n",
       "      <td>...</td>\n",
       "      <td>0</td>\n",
       "      <td>0.39</td>\n",
       "      <td>0.23</td>\n",
       "      <td>0</td>\n",
       "      <td>0</td>\n",
       "      <td>1</td>\n",
       "      <td>0</td>\n",
       "      <td>0</td>\n",
       "      <td>0</td>\n",
       "      <td>1</td>\n",
       "    </tr>\n",
       "    <tr>\n",
       "      <th>2</th>\n",
       "      <td>0</td>\n",
       "      <td>0</td>\n",
       "      <td>0</td>\n",
       "      <td>0</td>\n",
       "      <td>0.03</td>\n",
       "      <td>1</td>\n",
       "      <td>0</td>\n",
       "      <td>1</td>\n",
       "      <td>1</td>\n",
       "      <td>0</td>\n",
       "      <td>...</td>\n",
       "      <td>1</td>\n",
       "      <td>0.35</td>\n",
       "      <td>0.01</td>\n",
       "      <td>0</td>\n",
       "      <td>0</td>\n",
       "      <td>0</td>\n",
       "      <td>0</td>\n",
       "      <td>0</td>\n",
       "      <td>0</td>\n",
       "      <td>1</td>\n",
       "    </tr>\n",
       "    <tr>\n",
       "      <th>3</th>\n",
       "      <td>0</td>\n",
       "      <td>0</td>\n",
       "      <td>0</td>\n",
       "      <td>0</td>\n",
       "      <td>0.62</td>\n",
       "      <td>0</td>\n",
       "      <td>0</td>\n",
       "      <td>1</td>\n",
       "      <td>0</td>\n",
       "      <td>1</td>\n",
       "      <td>...</td>\n",
       "      <td>0</td>\n",
       "      <td>0.24</td>\n",
       "      <td>0.22</td>\n",
       "      <td>0</td>\n",
       "      <td>0</td>\n",
       "      <td>1</td>\n",
       "      <td>0</td>\n",
       "      <td>0</td>\n",
       "      <td>0</td>\n",
       "      <td>0</td>\n",
       "    </tr>\n",
       "    <tr>\n",
       "      <th>4</th>\n",
       "      <td>0</td>\n",
       "      <td>0</td>\n",
       "      <td>0</td>\n",
       "      <td>0</td>\n",
       "      <td>0.03</td>\n",
       "      <td>1</td>\n",
       "      <td>0</td>\n",
       "      <td>0</td>\n",
       "      <td>0</td>\n",
       "      <td>0</td>\n",
       "      <td>...</td>\n",
       "      <td>1</td>\n",
       "      <td>0.52</td>\n",
       "      <td>0.02</td>\n",
       "      <td>1</td>\n",
       "      <td>0</td>\n",
       "      <td>0</td>\n",
       "      <td>0</td>\n",
       "      <td>0</td>\n",
       "      <td>1</td>\n",
       "      <td>0</td>\n",
       "    </tr>\n",
       "  </tbody>\n",
       "</table>\n",
       "<p>5 rows × 23 columns</p>\n",
       "</div>"
      ],
      "text/plain": [
       "   gender  SeniorCitizen  Partner  Dependents  tenure  PhoneService  \\\n",
       "0       0              0        1           0    0.01             0   \n",
       "1       0              0        0           0    0.47             1   \n",
       "2       0              0        0           0    0.03             1   \n",
       "3       0              0        0           0    0.62             0   \n",
       "4       0              0        0           0    0.03             1   \n",
       "\n",
       "   MultipleLines  OnlineSecurity  OnlineBackup  DeviceProtection  ...  \\\n",
       "0              0               0             1                 0  ...   \n",
       "1              0               1             0                 1  ...   \n",
       "2              0               1             1                 0  ...   \n",
       "3              0               1             0                 1  ...   \n",
       "4              0               0             0                 0  ...   \n",
       "\n",
       "   PaperlessBilling  MonthlyCharges  TotalCharges  Fiber optic  No  One year  \\\n",
       "0                 1            0.12          0.00            0   0         0   \n",
       "1                 0            0.39          0.23            0   0         1   \n",
       "2                 1            0.35          0.01            0   0         0   \n",
       "3                 0            0.24          0.22            0   0         1   \n",
       "4                 1            0.52          0.02            1   0         0   \n",
       "\n",
       "   Two year  Credit card (automatic)  Electronic check  Mailed check  \n",
       "0         0                        0                 1             0  \n",
       "1         0                        0                 0             1  \n",
       "2         0                        0                 0             1  \n",
       "3         0                        0                 0             0  \n",
       "4         0                        0                 1             0  \n",
       "\n",
       "[5 rows x 23 columns]"
      ]
     },
     "execution_count": 35,
     "metadata": {},
     "output_type": "execute_result"
    }
   ],
   "source": [
    "X.head()"
   ]
  },
  {
   "cell_type": "code",
   "execution_count": 36,
   "metadata": {},
   "outputs": [],
   "source": [
    "from sklearn.model_selection import train_test_split"
   ]
  },
  {
   "cell_type": "code",
   "execution_count": 37,
   "metadata": {},
   "outputs": [],
   "source": [
    "#Dev and Test Split\n",
    "X_dev, X_test, y_dev, y_test = train_test_split(X,y,test_size = 0.1, random_state = 46)"
   ]
  },
  {
   "cell_type": "code",
   "execution_count": 38,
   "metadata": {},
   "outputs": [],
   "source": [
    "#Further Splitting the dev set into training and validation sets\n",
    "X_train, X_val, y_train, y_val = train_test_split(X_dev,y_dev,test_size=0.222, random_state =100)"
   ]
  },
  {
   "cell_type": "code",
   "execution_count": 39,
   "metadata": {},
   "outputs": [
    {
     "name": "stdout",
     "output_type": "stream",
     "text": [
      "(705,)\n"
     ]
    }
   ],
   "source": [
    "print(y_test.shape)"
   ]
  },
  {
   "cell_type": "markdown",
   "metadata": {},
   "source": [
    "## Predicting Churn\n",
    "\n",
    "In this section we predict customer churn using SVM, logistic regression, and multilayer perceptron classification techniques separately and combined."
   ]
  },
  {
   "cell_type": "code",
   "execution_count": 40,
   "metadata": {},
   "outputs": [],
   "source": [
    "#Creaing the list that would hold all test predictions from our four classifiers\n",
    "Ensemble = []"
   ]
  },
  {
   "cell_type": "code",
   "execution_count": 44,
   "metadata": {},
   "outputs": [],
   "source": [
    "def predict(model):\n",
    "    \"\"\"A function to compute the training and validation accuracies for a specified classifier\"\"\"\n",
    "    #Model training\n",
    "    model.fit(X_train,y_train)\n",
    "    #Prediction on training set\n",
    "    predictions = model.predict(X_train)\n",
    "    train_accuracy = accuracy_score(y_train,predictions)\n",
    "    #Prediction on validation set\n",
    "    predictions = model.predict(X_val)\n",
    "    val_accuracy = accuracy_score(y_val,predictions)\n",
    "    \n",
    "    return train_accuracy,val_accuracy"
   ]
  },
  {
   "cell_type": "markdown",
   "metadata": {},
   "source": [
    "### Support Vector Machine (SVM)"
   ]
  },
  {
   "cell_type": "code",
   "execution_count": 45,
   "metadata": {},
   "outputs": [],
   "source": [
    "#Importing the classifier\n",
    "from sklearn.svm import SVC"
   ]
  },
  {
   "cell_type": "code",
   "execution_count": 46,
   "metadata": {},
   "outputs": [],
   "source": [
    "#Importing some model evaluation tools\n",
    "from sklearn.metrics import classification_report, confusion_matrix, accuracy_score"
   ]
  },
  {
   "cell_type": "markdown",
   "metadata": {},
   "source": [
    "#### Training and Validation"
   ]
  },
  {
   "cell_type": "markdown",
   "metadata": {},
   "source": [
    "In the following block of code, we train and validate our model using the different values of the regularization parameter C."
   ]
  },
  {
   "cell_type": "code",
   "execution_count": 237,
   "metadata": {},
   "outputs": [],
   "source": [
    "#Values of C\n",
    "C_vals = [10**x for x in range(-4,5)]\n",
    "SVM_results, T, V = {},[],[]\n",
    "for i in range(len(C_vals)):\n",
    "    model = SVC(C=C_vals[i])\n",
    "    #Getting the training accuracy from the predict function\n",
    "    T.append(predict(model)[0])\n",
    "    #Getting the validation accuracy from the predict function\n",
    "    V.append(predict(model)[1]) \n",
    "\n",
    "SVM_results[\"C\"], SVM_results[\"Training Accuracy\"], SVM_results[\"Validation Accuracy\"] = C_vals,T,V\n",
    "SVM_results = pd.DataFrame(SVM_results,columns=[\"C\",\"Training Accuracy\",\"Validation Accuracy\"])"
   ]
  },
  {
   "cell_type": "code",
   "execution_count": 238,
   "metadata": {},
   "outputs": [
    {
     "data": {
      "text/html": [
       "<div>\n",
       "<style scoped>\n",
       "    .dataframe tbody tr th:only-of-type {\n",
       "        vertical-align: middle;\n",
       "    }\n",
       "\n",
       "    .dataframe tbody tr th {\n",
       "        vertical-align: top;\n",
       "    }\n",
       "\n",
       "    .dataframe thead th {\n",
       "        text-align: right;\n",
       "    }\n",
       "</style>\n",
       "<table border=\"1\" class=\"dataframe\">\n",
       "  <thead>\n",
       "    <tr style=\"text-align: right;\">\n",
       "      <th></th>\n",
       "      <th>C</th>\n",
       "      <th>Training Accuracy</th>\n",
       "      <th>Validation Accuracy</th>\n",
       "    </tr>\n",
       "  </thead>\n",
       "  <tbody>\n",
       "    <tr>\n",
       "      <th>0</th>\n",
       "      <td>0.0001</td>\n",
       "      <td>0.733671</td>\n",
       "      <td>0.724432</td>\n",
       "    </tr>\n",
       "    <tr>\n",
       "      <th>1</th>\n",
       "      <td>0.0010</td>\n",
       "      <td>0.733671</td>\n",
       "      <td>0.724432</td>\n",
       "    </tr>\n",
       "    <tr>\n",
       "      <th>2</th>\n",
       "      <td>0.0100</td>\n",
       "      <td>0.733671</td>\n",
       "      <td>0.724432</td>\n",
       "    </tr>\n",
       "    <tr>\n",
       "      <th>3</th>\n",
       "      <td>0.1000</td>\n",
       "      <td>0.795132</td>\n",
       "      <td>0.781960</td>\n",
       "    </tr>\n",
       "    <tr>\n",
       "      <th>4</th>\n",
       "      <td>1.0000</td>\n",
       "      <td>0.811765</td>\n",
       "      <td>0.793324</td>\n",
       "    </tr>\n",
       "    <tr>\n",
       "      <th>5</th>\n",
       "      <td>10.0000</td>\n",
       "      <td>0.851724</td>\n",
       "      <td>0.774858</td>\n",
       "    </tr>\n",
       "    <tr>\n",
       "      <th>6</th>\n",
       "      <td>100.0000</td>\n",
       "      <td>0.907708</td>\n",
       "      <td>0.746449</td>\n",
       "    </tr>\n",
       "    <tr>\n",
       "      <th>7</th>\n",
       "      <td>1000.0000</td>\n",
       "      <td>0.930223</td>\n",
       "      <td>0.739347</td>\n",
       "    </tr>\n",
       "    <tr>\n",
       "      <th>8</th>\n",
       "      <td>10000.0000</td>\n",
       "      <td>0.944625</td>\n",
       "      <td>0.736506</td>\n",
       "    </tr>\n",
       "  </tbody>\n",
       "</table>\n",
       "</div>"
      ],
      "text/plain": [
       "            C  Training Accuracy  Validation Accuracy\n",
       "0      0.0001           0.733671             0.724432\n",
       "1      0.0010           0.733671             0.724432\n",
       "2      0.0100           0.733671             0.724432\n",
       "3      0.1000           0.795132             0.781960\n",
       "4      1.0000           0.811765             0.793324\n",
       "5     10.0000           0.851724             0.774858\n",
       "6    100.0000           0.907708             0.746449\n",
       "7   1000.0000           0.930223             0.739347\n",
       "8  10000.0000           0.944625             0.736506"
      ]
     },
     "execution_count": 238,
     "metadata": {},
     "output_type": "execute_result"
    }
   ],
   "source": [
    "SVM_results"
   ]
  },
  {
   "cell_type": "code",
   "execution_count": 241,
   "metadata": {},
   "outputs": [
    {
     "data": {
      "text/plain": [
       "<matplotlib.legend.Legend at 0x21be760d6d8>"
      ]
     },
     "execution_count": 241,
     "metadata": {},
     "output_type": "execute_result"
    },
    {
     "data": {
      "image/png": "[encoded data removed]",
      "text/plain": [
       "<Figure size 720x720 with 1 Axes>"
      ]
     },
     "metadata": {
      "needs_background": "light"
     },
     "output_type": "display_data"
    }
   ],
   "source": [
    "#log_10 values of C\n",
    "powers = [x for x in range(-4,5)]\n",
    "#Plotting the accuracies\n",
    "plt.figure(figsize=(10,10))\n",
    "plt.plot(powers,T,label=\"Training\")\n",
    "plt.plot(powers,V,label=\"Validation\")\n",
    "plt.xlabel(\"Log_10 of Reg. Param\")\n",
    "plt.ylabel(\"Accuracy\")\n",
    "plt.title(\"Log to Base 10 of Regularization Parameter Against Accuracy\")\n",
    "plt.legend(loc=\"upper left\")"
   ]
  },
  {
   "cell_type": "markdown",
   "metadata": {},
   "source": [
    "#### Testing"
   ]
  },
  {
   "cell_type": "markdown",
   "metadata": {},
   "source": [
    "We yield our best accuracy when $C=10^0 = 1$, therefore we use this value of C for testing."
   ]
  },
  {
   "cell_type": "code",
   "execution_count": 242,
   "metadata": {},
   "outputs": [],
   "source": [
    "model = SVC(C=1)\n",
    "#Fitting on the combined training and validation set, called dev set here\n",
    "model.fit(X_dev, y_dev)\n",
    "#Save model using pickle\n",
    "import pickle\n",
    "pickle.dump(model, open('SVM_model.sav', 'wb'))"
   ]
  },
  {
   "cell_type": "code",
   "execution_count": 47,
   "metadata": {},
   "outputs": [
    {
     "name": "stdout",
     "output_type": "stream",
     "text": [
      "Test Accuracy for SVM is 81.28 %\n"
     ]
    }
   ],
   "source": [
    "# load the model from disk\n",
    "import pickle\n",
    "loaded_model = pickle.load(open('SVM_model.sav', 'rb'))\n",
    "predictions = loaded_model.predict(X_test)\n",
    "Ensemble.append(predictions)\n",
    "x = 100*accuracy_score(y_test,predictions)\n",
    "x=round(x,2)\n",
    "print(\"Test Accuracy for SVM is\", x,\"%\")"
   ]
  },
  {
   "cell_type": "markdown",
   "metadata": {},
   "source": [
    "### Logistic Regression"
   ]
  },
  {
   "cell_type": "code",
   "execution_count": 244,
   "metadata": {},
   "outputs": [],
   "source": [
    "from sklearn.linear_model import LogisticRegression"
   ]
  },
  {
   "cell_type": "code",
   "execution_count": 245,
   "metadata": {},
   "outputs": [],
   "source": [
    "LR_results, T, V = {},[],[]\n",
    "for i in range(len(C_vals)):\n",
    "    model = LogisticRegression(C=C_vals[i])\n",
    "    T.append(predict(model)[0]) #Getting the training accuracy from the predict function\n",
    "    V.append(predict(model)[1]) #Getting the validation accuracy from the predict function\n",
    "\n",
    "LR_results[\"C\"], LR_results[\"Training Accuracy\"], LR_results[\"Validation Accuracy\"] = C_vals,T,V\n",
    "LR_results = pd.DataFrame(LR_results,columns=[\"C\",\"Training Accuracy\",\"Validation Accuracy\"])"
   ]
  },
  {
   "cell_type": "code",
   "execution_count": 246,
   "metadata": {},
   "outputs": [
    {
     "data": {
      "text/html": [
       "<div>\n",
       "<style scoped>\n",
       "    .dataframe tbody tr th:only-of-type {\n",
       "        vertical-align: middle;\n",
       "    }\n",
       "\n",
       "    .dataframe tbody tr th {\n",
       "        vertical-align: top;\n",
       "    }\n",
       "\n",
       "    .dataframe thead th {\n",
       "        text-align: right;\n",
       "    }\n",
       "</style>\n",
       "<table border=\"1\" class=\"dataframe\">\n",
       "  <thead>\n",
       "    <tr style=\"text-align: right;\">\n",
       "      <th></th>\n",
       "      <th>C</th>\n",
       "      <th>Training Accuracy</th>\n",
       "      <th>Validation Accuracy</th>\n",
       "    </tr>\n",
       "  </thead>\n",
       "  <tbody>\n",
       "    <tr>\n",
       "      <th>0</th>\n",
       "      <td>0.0001</td>\n",
       "      <td>0.733671</td>\n",
       "      <td>0.724432</td>\n",
       "    </tr>\n",
       "    <tr>\n",
       "      <th>1</th>\n",
       "      <td>0.0010</td>\n",
       "      <td>0.733671</td>\n",
       "      <td>0.724432</td>\n",
       "    </tr>\n",
       "    <tr>\n",
       "      <th>2</th>\n",
       "      <td>0.0100</td>\n",
       "      <td>0.790669</td>\n",
       "      <td>0.786932</td>\n",
       "    </tr>\n",
       "    <tr>\n",
       "      <th>3</th>\n",
       "      <td>0.1000</td>\n",
       "      <td>0.802434</td>\n",
       "      <td>0.794744</td>\n",
       "    </tr>\n",
       "    <tr>\n",
       "      <th>4</th>\n",
       "      <td>1.0000</td>\n",
       "      <td>0.803043</td>\n",
       "      <td>0.794744</td>\n",
       "    </tr>\n",
       "    <tr>\n",
       "      <th>5</th>\n",
       "      <td>10.0000</td>\n",
       "      <td>0.806085</td>\n",
       "      <td>0.796875</td>\n",
       "    </tr>\n",
       "    <tr>\n",
       "      <th>6</th>\n",
       "      <td>100.0000</td>\n",
       "      <td>0.806897</td>\n",
       "      <td>0.793324</td>\n",
       "    </tr>\n",
       "    <tr>\n",
       "      <th>7</th>\n",
       "      <td>1000.0000</td>\n",
       "      <td>0.806897</td>\n",
       "      <td>0.793324</td>\n",
       "    </tr>\n",
       "    <tr>\n",
       "      <th>8</th>\n",
       "      <td>10000.0000</td>\n",
       "      <td>0.806694</td>\n",
       "      <td>0.793324</td>\n",
       "    </tr>\n",
       "  </tbody>\n",
       "</table>\n",
       "</div>"
      ],
      "text/plain": [
       "            C  Training Accuracy  Validation Accuracy\n",
       "0      0.0001           0.733671             0.724432\n",
       "1      0.0010           0.733671             0.724432\n",
       "2      0.0100           0.790669             0.786932\n",
       "3      0.1000           0.802434             0.794744\n",
       "4      1.0000           0.803043             0.794744\n",
       "5     10.0000           0.806085             0.796875\n",
       "6    100.0000           0.806897             0.793324\n",
       "7   1000.0000           0.806897             0.793324\n",
       "8  10000.0000           0.806694             0.793324"
      ]
     },
     "execution_count": 246,
     "metadata": {},
     "output_type": "execute_result"
    }
   ],
   "source": [
    "LR_results"
   ]
  },
  {
   "cell_type": "code",
   "execution_count": 247,
   "metadata": {},
   "outputs": [
    {
     "data": {
      "text/plain": [
       "<matplotlib.legend.Legend at 0x21be819e320>"
      ]
     },
     "execution_count": 247,
     "metadata": {},
     "output_type": "execute_result"
    },
    {
     "data": {
      "image/png": "[encoded data removed]",
      "text/plain": [
       "<Figure size 720x720 with 1 Axes>"
      ]
     },
     "metadata": {
      "needs_background": "light"
     },
     "output_type": "display_data"
    }
   ],
   "source": [
    "#Plotting the accuracies\n",
    "plt.figure(figsize=(10,10))\n",
    "plt.plot(powers,T,label=\"Training\")\n",
    "plt.plot(powers,V,label=\"Validation\")\n",
    "plt.xlabel(\"Log_10 of Reg. Param\")\n",
    "plt.ylabel(\"Accuracy\")\n",
    "plt.title(\"Log to Base 10 of Regularization Parameter Against Accuracy\")\n",
    "plt.legend(loc=\"upper left\")"
   ]
  },
  {
   "cell_type": "code",
   "execution_count": 254,
   "metadata": {},
   "outputs": [],
   "source": [
    "model = LogisticRegression(penalty=\"l2\",C=100)\n",
    "model.fit(X_dev,y_dev)\n",
    "pickle.dump(model, open('LR_model.sav', 'wb'))"
   ]
  },
  {
   "cell_type": "code",
   "execution_count": 48,
   "metadata": {},
   "outputs": [
    {
     "name": "stdout",
     "output_type": "stream",
     "text": [
      "Test Accuracy for Logistic Regression is 81.42 %\n"
     ]
    }
   ],
   "source": [
    "loaded_model = pickle.load(open('LR_model.sav', 'rb'))\n",
    "predictions = loaded_model.predict(X_test)\n",
    "Ensemble.append(predictions)\n",
    "x = 100*accuracy_score(y_test,predictions)\n",
    "x=round(x,2)\n",
    "print(\"Test Accuracy for Logistic Regression is\", x,\"%\")"
   ]
  },
  {
   "cell_type": "markdown",
   "metadata": {},
   "source": [
    "### Random Forest"
   ]
  },
  {
   "cell_type": "code",
   "execution_count": 53,
   "metadata": {},
   "outputs": [],
   "source": [
    "#Importing the classifier\n",
    "from sklearn.ensemble import RandomForestClassifier"
   ]
  },
  {
   "cell_type": "code",
   "execution_count": 55,
   "metadata": {},
   "outputs": [
    {
     "name": "stdout",
     "output_type": "stream",
     "text": [
      "{'n_estimators': [200, 400, 600, 800, 1000, 1200, 1400, 1600, 1800, 2000], 'max_depth': [10, 20, 30, 40, 50, 60, 70, 80, 90, 100, 110, None], 'min_samples_split': [2, 5, 10], 'min_samples_leaf': [1, 2, 4]}\n"
     ]
    }
   ],
   "source": [
    "from sklearn.model_selection import RandomizedSearchCV\n",
    "# Number of trees in random forest\n",
    "n_trees = [int(x) for x in np.linspace(start = 200, stop = 2000, num = 10)]\n",
    "# Maximum number of levels in each tree\n",
    "max_depth = [int(x) for x in np.linspace(10, 110, num = 11)]+[None]\n",
    "# Minimum number of samples required for splitting\n",
    "min_split = [2, 5, 10]\n",
    "# Minimum number of samples required at each leaf node\n",
    "min_leaf = [1, 2, 4]\n",
    "\n",
    "# Creating the grid\n",
    "grid = {'n_estimators': n_trees,'max_depth': max_depth,'min_samples_split': min_split,'min_samples_leaf': min_leaf}\n",
    "print(grid)"
   ]
  },
  {
   "cell_type": "code",
   "execution_count": 56,
   "metadata": {},
   "outputs": [
    {
     "name": "stdout",
     "output_type": "stream",
     "text": [
      "Fitting 3 folds for each of 200 candidates, totalling 600 fits\n"
     ]
    },
    {
     "name": "stderr",
     "output_type": "stream",
     "text": [
      "[Parallel(n_jobs=-1)]: Using backend LokyBackend with 4 concurrent workers.\n",
      "[Parallel(n_jobs=-1)]: Done  33 tasks      | elapsed:   57.8s\n",
      "[Parallel(n_jobs=-1)]: Done 154 tasks      | elapsed:  4.2min\n",
      "[Parallel(n_jobs=-1)]: Done 357 tasks      | elapsed:  9.7min\n",
      "[Parallel(n_jobs=-1)]: Done 600 out of 600 | elapsed: 16.7min finished\n"
     ]
    },
    {
     "data": {
      "text/plain": [
       "{'n_estimators': 400,\n",
       " 'min_samples_split': 10,\n",
       " 'min_samples_leaf': 4,\n",
       " 'max_depth': 10}"
      ]
     },
     "execution_count": 56,
     "metadata": {},
     "output_type": "execute_result"
    }
   ],
   "source": [
    "# Use the random grid to search for best hyperparameters\n",
    "# First create the base model to tune\n",
    "rf = RandomForestClassifier()\n",
    "# Random search of parameters, using 3 fold cross validation, \n",
    "# search across 100 different combinations, and use all available cores\n",
    "rf_random = RandomizedSearchCV(estimator = rf, param_distributions = grid, n_iter = 200 , cv = 3, verbose=2, random_state=100, n_jobs = -1)\n",
    "# Fit the random search model\n",
    "rf_random.fit(X_dev, y_dev)\n",
    "rf_random.best_params_"
   ]
  },
  {
   "cell_type": "code",
   "execution_count": 57,
   "metadata": {},
   "outputs": [],
   "source": [
    "#RF = RandomForestClassifier(n_estimators=1200,min_samples_split=10,min_samples_leaf=4,max_depth=10)\n",
    "RF = RandomForestClassifier(**rf_random.best_params_)\n",
    "RF.fit(X_dev,y_dev)\n",
    "pickle.dump(RF, open('RF_model.sav', 'wb'))"
   ]
  },
  {
   "cell_type": "code",
   "execution_count": 58,
   "metadata": {},
   "outputs": [
    {
     "name": "stdout",
     "output_type": "stream",
     "text": [
      "Test Accuracy for Random Forest is 80.99 %\n"
     ]
    }
   ],
   "source": [
    "loaded_model = pickle.load(open('RF_model.sav', 'rb'))\n",
    "predictions = loaded_model.predict(X_test)\n",
    "pred=loaded_model.predict(X_test)\n",
    "accuracy_score(y_test,pred)\n",
    "Ensemble.append(pred)\n",
    "x = 100*accuracy_score(y_test,pred)\n",
    "x=round(x,2)\n",
    "print(\"Test Accuracy for Random Forest is\", x,\"%\")"
   ]
  },
  {
   "cell_type": "markdown",
   "metadata": {},
   "source": [
    "### Neural Network"
   ]
  },
  {
   "cell_type": "code",
   "execution_count": 59,
   "metadata": {},
   "outputs": [
    {
     "data": {
      "text/plain": [
       "(6338, 23)"
      ]
     },
     "execution_count": 59,
     "metadata": {},
     "output_type": "execute_result"
    }
   ],
   "source": [
    "X_dev.shape"
   ]
  },
  {
   "cell_type": "code",
   "execution_count": 60,
   "metadata": {},
   "outputs": [
    {
     "name": "stderr",
     "output_type": "stream",
     "text": [
      "Using Theano backend.\n"
     ]
    }
   ],
   "source": [
    "from keras import models\n",
    "from keras import layers\n",
    "from keras.wrappers.scikit_learn import KerasClassifier\n",
    "from keras.optimizers import Adam, RMSprop\n",
    "from sklearn.datasets import make_classification"
   ]
  },
  {
   "cell_type": "code",
   "execution_count": 61,
   "metadata": {},
   "outputs": [],
   "source": [
    "def setup_network(optimizer, neurons, dropout_rate, learn_rate):\n",
    "     # Start neural network\n",
    "    network = models.Sequential()\n",
    "\n",
    "    # Add fully connected layer with a ReLU activation function\n",
    "    network.add(layers.Dense(neurons,activation='relu',input_shape=(23,)))\n",
    "\n",
    "    # Add fully connected layer with a ReLU activation function\n",
    "    network.add(layers.Dense(neurons,activation='relu'))\n",
    "    \n",
    "    #Specifying dropout\n",
    "    network.add(layers.Dropout(dropout_rate))\n",
    "    \n",
    "    # Add fully connected layer with a sigmoid activation function\n",
    "    network.add(layers.Dense(units=1, activation='sigmoid'))\n",
    "\n",
    "    # Compile neural network\n",
    "    if optimizer==\"Adam\":\n",
    "        optimizer = Adam(learning_rate=learn_rate)\n",
    "    else:\n",
    "        optimizer = RMSprop(learning_rate=learn_rate)\n",
    "    network.compile(loss='binary_crossentropy', # Cross-entropy\n",
    "                    optimizer=optimizer, # Optimizer\n",
    "                    metrics=['accuracy']) # Accuracy performance metric\n",
    "    \n",
    "    return network"
   ]
  },
  {
   "cell_type": "code",
   "execution_count": 62,
   "metadata": {},
   "outputs": [],
   "source": [
    "# Wrap Keras model so it can be used by scikit-learn\n",
    "neural_network = KerasClassifier(build_fn=setup_network, verbose=0)"
   ]
  },
  {
   "cell_type": "code",
   "execution_count": 64,
   "metadata": {},
   "outputs": [
    {
     "name": "stdout",
     "output_type": "stream",
     "text": [
      "Fitting 3 folds for each of 20 candidates, totalling 60 fits\n",
      "[CV] optimizer=Adam, neurons=16, learn_rate=0.001, epochs=10, dropout_rate=0.75, batch_size=100 \n"
     ]
    },
    {
     "name": "stderr",
     "output_type": "stream",
     "text": [
      "[Parallel(n_jobs=1)]: Using backend SequentialBackend with 1 concurrent workers.\n"
     ]
    },
    {
     "name": "stdout",
     "output_type": "stream",
     "text": [
      "[CV]  optimizer=Adam, neurons=16, learn_rate=0.001, epochs=10, dropout_rate=0.75, batch_size=100, total=   1.3s\n",
      "[CV] optimizer=Adam, neurons=16, learn_rate=0.001, epochs=10, dropout_rate=0.75, batch_size=100 \n"
     ]
    },
    {
     "name": "stderr",
     "output_type": "stream",
     "text": [
      "[Parallel(n_jobs=1)]: Done   1 out of   1 | elapsed:    1.2s remaining:    0.0s\n"
     ]
    },
    {
     "name": "stdout",
     "output_type": "stream",
     "text": [
      "[CV]  optimizer=Adam, neurons=16, learn_rate=0.001, epochs=10, dropout_rate=0.75, batch_size=100, total=   1.1s\n",
      "[CV] optimizer=Adam, neurons=16, learn_rate=0.001, epochs=10, dropout_rate=0.75, batch_size=100 \n",
      "[CV]  optimizer=Adam, neurons=16, learn_rate=0.001, epochs=10, dropout_rate=0.75, batch_size=100, total=   1.2s\n",
      "[CV] optimizer=Adam, neurons=8, learn_rate=0.01, epochs=5, dropout_rate=0.75, batch_size=5 \n",
      "[CV]  optimizer=Adam, neurons=8, learn_rate=0.01, epochs=5, dropout_rate=0.75, batch_size=5, total=   2.3s\n",
      "[CV] optimizer=Adam, neurons=8, learn_rate=0.01, epochs=5, dropout_rate=0.75, batch_size=5 \n",
      "[CV]  optimizer=Adam, neurons=8, learn_rate=0.01, epochs=5, dropout_rate=0.75, batch_size=5, total=   2.1s\n",
      "[CV] optimizer=Adam, neurons=8, learn_rate=0.01, epochs=5, dropout_rate=0.75, batch_size=5 \n",
      "[CV]  optimizer=Adam, neurons=8, learn_rate=0.01, epochs=5, dropout_rate=0.75, batch_size=5, total=   2.4s\n",
      "[CV] optimizer=Adam, neurons=16, learn_rate=0.001, epochs=5, dropout_rate=0.0, batch_size=5 \n",
      "[CV]  optimizer=Adam, neurons=16, learn_rate=0.001, epochs=5, dropout_rate=0.0, batch_size=5, total=   1.9s\n",
      "[CV] optimizer=Adam, neurons=16, learn_rate=0.001, epochs=5, dropout_rate=0.0, batch_size=5 \n",
      "[CV]  optimizer=Adam, neurons=16, learn_rate=0.001, epochs=5, dropout_rate=0.0, batch_size=5, total=   2.0s\n",
      "[CV] optimizer=Adam, neurons=16, learn_rate=0.001, epochs=5, dropout_rate=0.0, batch_size=5 \n",
      "[CV]  optimizer=Adam, neurons=16, learn_rate=0.001, epochs=5, dropout_rate=0.0, batch_size=5, total=   2.2s\n",
      "[CV] optimizer=RMSprop, neurons=4, learn_rate=0.01, epochs=10, dropout_rate=0.75, batch_size=100 \n",
      "[CV]  optimizer=RMSprop, neurons=4, learn_rate=0.01, epochs=10, dropout_rate=0.75, batch_size=100, total=   0.9s\n",
      "[CV] optimizer=RMSprop, neurons=4, learn_rate=0.01, epochs=10, dropout_rate=0.75, batch_size=100 \n",
      "[CV]  optimizer=RMSprop, neurons=4, learn_rate=0.01, epochs=10, dropout_rate=0.75, batch_size=100, total=   1.1s\n",
      "[CV] optimizer=RMSprop, neurons=4, learn_rate=0.01, epochs=10, dropout_rate=0.75, batch_size=100 \n",
      "[CV]  optimizer=RMSprop, neurons=4, learn_rate=0.01, epochs=10, dropout_rate=0.75, batch_size=100, total=   0.9s\n",
      "[CV] optimizer=Adam, neurons=16, learn_rate=0.01, epochs=5, dropout_rate=0.5, batch_size=5 \n",
      "[CV]  optimizer=Adam, neurons=16, learn_rate=0.01, epochs=5, dropout_rate=0.5, batch_size=5, total=   2.4s\n",
      "[CV] optimizer=Adam, neurons=16, learn_rate=0.01, epochs=5, dropout_rate=0.5, batch_size=5 \n",
      "[CV]  optimizer=Adam, neurons=16, learn_rate=0.01, epochs=5, dropout_rate=0.5, batch_size=5, total=   2.2s\n",
      "[CV] optimizer=Adam, neurons=16, learn_rate=0.01, epochs=5, dropout_rate=0.5, batch_size=5 \n",
      "[CV]  optimizer=Adam, neurons=16, learn_rate=0.01, epochs=5, dropout_rate=0.5, batch_size=5, total=   3.9s\n",
      "[CV] optimizer=RMSprop, neurons=8, learn_rate=0.01, epochs=5, dropout_rate=0.75, batch_size=100 \n",
      "[CV]  optimizer=RMSprop, neurons=8, learn_rate=0.01, epochs=5, dropout_rate=0.75, batch_size=100, total=   1.0s\n",
      "[CV] optimizer=RMSprop, neurons=8, learn_rate=0.01, epochs=5, dropout_rate=0.75, batch_size=100 \n",
      "[CV]  optimizer=RMSprop, neurons=8, learn_rate=0.01, epochs=5, dropout_rate=0.75, batch_size=100, total=   1.0s\n",
      "[CV] optimizer=RMSprop, neurons=8, learn_rate=0.01, epochs=5, dropout_rate=0.75, batch_size=100 \n",
      "[CV]  optimizer=RMSprop, neurons=8, learn_rate=0.01, epochs=5, dropout_rate=0.75, batch_size=100, total=   0.9s\n",
      "[CV] optimizer=RMSprop, neurons=16, learn_rate=0.01, epochs=5, dropout_rate=0.0, batch_size=100 \n",
      "[CV]  optimizer=RMSprop, neurons=16, learn_rate=0.01, epochs=5, dropout_rate=0.0, batch_size=100, total=   1.2s\n",
      "[CV] optimizer=RMSprop, neurons=16, learn_rate=0.01, epochs=5, dropout_rate=0.0, batch_size=100 \n",
      "[CV]  optimizer=RMSprop, neurons=16, learn_rate=0.01, epochs=5, dropout_rate=0.0, batch_size=100, total=   0.8s\n",
      "[CV] optimizer=RMSprop, neurons=16, learn_rate=0.01, epochs=5, dropout_rate=0.0, batch_size=100 \n",
      "[CV]  optimizer=RMSprop, neurons=16, learn_rate=0.01, epochs=5, dropout_rate=0.0, batch_size=100, total=   0.9s\n",
      "[CV] optimizer=RMSprop, neurons=8, learn_rate=0.1, epochs=10, dropout_rate=0.5, batch_size=5 \n",
      "[CV]  optimizer=RMSprop, neurons=8, learn_rate=0.1, epochs=10, dropout_rate=0.5, batch_size=5, total=   3.2s\n",
      "[CV] optimizer=RMSprop, neurons=8, learn_rate=0.1, epochs=10, dropout_rate=0.5, batch_size=5 \n",
      "[CV]  optimizer=RMSprop, neurons=8, learn_rate=0.1, epochs=10, dropout_rate=0.5, batch_size=5, total=   3.0s\n",
      "[CV] optimizer=RMSprop, neurons=8, learn_rate=0.1, epochs=10, dropout_rate=0.5, batch_size=5 \n",
      "[CV]  optimizer=RMSprop, neurons=8, learn_rate=0.1, epochs=10, dropout_rate=0.5, batch_size=5, total=   3.2s\n",
      "[CV] optimizer=Adam, neurons=8, learn_rate=0.001, epochs=10, dropout_rate=0.0, batch_size=100 \n",
      "[CV]  optimizer=Adam, neurons=8, learn_rate=0.001, epochs=10, dropout_rate=0.0, batch_size=100, total=   0.9s\n",
      "[CV] optimizer=Adam, neurons=8, learn_rate=0.001, epochs=10, dropout_rate=0.0, batch_size=100 \n",
      "[CV]  optimizer=Adam, neurons=8, learn_rate=0.001, epochs=10, dropout_rate=0.0, batch_size=100, total=   1.1s\n",
      "[CV] optimizer=Adam, neurons=8, learn_rate=0.001, epochs=10, dropout_rate=0.0, batch_size=100 \n",
      "[CV]  optimizer=Adam, neurons=8, learn_rate=0.001, epochs=10, dropout_rate=0.0, batch_size=100, total=   0.9s\n",
      "[CV] optimizer=RMSprop, neurons=16, learn_rate=0.1, epochs=5, dropout_rate=0.75, batch_size=100 \n",
      "[CV]  optimizer=RMSprop, neurons=16, learn_rate=0.1, epochs=5, dropout_rate=0.75, batch_size=100, total=   1.1s\n",
      "[CV] optimizer=RMSprop, neurons=16, learn_rate=0.1, epochs=5, dropout_rate=0.75, batch_size=100 \n",
      "[CV]  optimizer=RMSprop, neurons=16, learn_rate=0.1, epochs=5, dropout_rate=0.75, batch_size=100, total=   1.0s\n",
      "[CV] optimizer=RMSprop, neurons=16, learn_rate=0.1, epochs=5, dropout_rate=0.75, batch_size=100 \n",
      "[CV]  optimizer=RMSprop, neurons=16, learn_rate=0.1, epochs=5, dropout_rate=0.75, batch_size=100, total=   1.0s\n",
      "[CV] optimizer=RMSprop, neurons=4, learn_rate=0.001, epochs=5, dropout_rate=0.75, batch_size=5 \n",
      "[CV]  optimizer=RMSprop, neurons=4, learn_rate=0.001, epochs=5, dropout_rate=0.75, batch_size=5, total=   2.0s\n",
      "[CV] optimizer=RMSprop, neurons=4, learn_rate=0.001, epochs=5, dropout_rate=0.75, batch_size=5 \n",
      "[CV]  optimizer=RMSprop, neurons=4, learn_rate=0.001, epochs=5, dropout_rate=0.75, batch_size=5, total=   2.1s\n",
      "[CV] optimizer=RMSprop, neurons=4, learn_rate=0.001, epochs=5, dropout_rate=0.75, batch_size=5 \n",
      "[CV]  optimizer=RMSprop, neurons=4, learn_rate=0.001, epochs=5, dropout_rate=0.75, batch_size=5, total=   1.9s\n",
      "[CV] optimizer=RMSprop, neurons=16, learn_rate=0.001, epochs=5, dropout_rate=0.5, batch_size=100 \n",
      "[CV]  optimizer=RMSprop, neurons=16, learn_rate=0.001, epochs=5, dropout_rate=0.5, batch_size=100, total=   1.0s\n",
      "[CV] optimizer=RMSprop, neurons=16, learn_rate=0.001, epochs=5, dropout_rate=0.5, batch_size=100 \n",
      "[CV]  optimizer=RMSprop, neurons=16, learn_rate=0.001, epochs=5, dropout_rate=0.5, batch_size=100, total=   1.0s\n",
      "[CV] optimizer=RMSprop, neurons=16, learn_rate=0.001, epochs=5, dropout_rate=0.5, batch_size=100 \n",
      "[CV]  optimizer=RMSprop, neurons=16, learn_rate=0.001, epochs=5, dropout_rate=0.5, batch_size=100, total=   0.9s\n",
      "[CV] optimizer=Adam, neurons=4, learn_rate=0.001, epochs=10, dropout_rate=0.25, batch_size=100 \n",
      "[CV]  optimizer=Adam, neurons=4, learn_rate=0.001, epochs=10, dropout_rate=0.25, batch_size=100, total=   1.2s\n",
      "[CV] optimizer=Adam, neurons=4, learn_rate=0.001, epochs=10, dropout_rate=0.25, batch_size=100 \n",
      "[CV]  optimizer=Adam, neurons=4, learn_rate=0.001, epochs=10, dropout_rate=0.25, batch_size=100, total=   1.0s\n",
      "[CV] optimizer=Adam, neurons=4, learn_rate=0.001, epochs=10, dropout_rate=0.25, batch_size=100 \n",
      "[CV]  optimizer=Adam, neurons=4, learn_rate=0.001, epochs=10, dropout_rate=0.25, batch_size=100, total=   1.2s\n",
      "[CV] optimizer=Adam, neurons=8, learn_rate=0.01, epochs=10, dropout_rate=0.25, batch_size=10 \n",
      "[CV]  optimizer=Adam, neurons=8, learn_rate=0.01, epochs=10, dropout_rate=0.25, batch_size=10, total=   2.4s\n",
      "[CV] optimizer=Adam, neurons=8, learn_rate=0.01, epochs=10, dropout_rate=0.25, batch_size=10 \n",
      "[CV]  optimizer=Adam, neurons=8, learn_rate=0.01, epochs=10, dropout_rate=0.25, batch_size=10, total=   2.3s\n",
      "[CV] optimizer=Adam, neurons=8, learn_rate=0.01, epochs=10, dropout_rate=0.25, batch_size=10 \n",
      "[CV]  optimizer=Adam, neurons=8, learn_rate=0.01, epochs=10, dropout_rate=0.25, batch_size=10, total=   2.3s\n",
      "[CV] optimizer=RMSprop, neurons=4, learn_rate=0.001, epochs=10, dropout_rate=0.5, batch_size=5 \n",
      "[CV]  optimizer=RMSprop, neurons=4, learn_rate=0.001, epochs=10, dropout_rate=0.5, batch_size=5, total=   3.0s\n",
      "[CV] optimizer=RMSprop, neurons=4, learn_rate=0.001, epochs=10, dropout_rate=0.5, batch_size=5 \n",
      "[CV]  optimizer=RMSprop, neurons=4, learn_rate=0.001, epochs=10, dropout_rate=0.5, batch_size=5, total=   3.2s\n",
      "[CV] optimizer=RMSprop, neurons=4, learn_rate=0.001, epochs=10, dropout_rate=0.5, batch_size=5 \n",
      "[CV]  optimizer=RMSprop, neurons=4, learn_rate=0.001, epochs=10, dropout_rate=0.5, batch_size=5, total=   3.0s\n",
      "[CV] optimizer=RMSprop, neurons=16, learn_rate=0.001, epochs=10, dropout_rate=0.75, batch_size=10 \n",
      "[CV]  optimizer=RMSprop, neurons=16, learn_rate=0.001, epochs=10, dropout_rate=0.75, batch_size=10, total=   2.3s\n",
      "[CV] optimizer=RMSprop, neurons=16, learn_rate=0.001, epochs=10, dropout_rate=0.75, batch_size=10 \n",
      "[CV]  optimizer=RMSprop, neurons=16, learn_rate=0.001, epochs=10, dropout_rate=0.75, batch_size=10, total=   2.0s\n",
      "[CV] optimizer=RMSprop, neurons=16, learn_rate=0.001, epochs=10, dropout_rate=0.75, batch_size=10 \n",
      "[CV]  optimizer=RMSprop, neurons=16, learn_rate=0.001, epochs=10, dropout_rate=0.75, batch_size=10, total=   2.2s\n",
      "[CV] optimizer=RMSprop, neurons=4, learn_rate=0.001, epochs=5, dropout_rate=0.25, batch_size=100 \n",
      "[CV]  optimizer=RMSprop, neurons=4, learn_rate=0.001, epochs=5, dropout_rate=0.25, batch_size=100, total=   0.9s\n",
      "[CV] optimizer=RMSprop, neurons=4, learn_rate=0.001, epochs=5, dropout_rate=0.25, batch_size=100 \n",
      "[CV]  optimizer=RMSprop, neurons=4, learn_rate=0.001, epochs=5, dropout_rate=0.25, batch_size=100, total=   1.0s\n",
      "[CV] optimizer=RMSprop, neurons=4, learn_rate=0.001, epochs=5, dropout_rate=0.25, batch_size=100 \n",
      "[CV]  optimizer=RMSprop, neurons=4, learn_rate=0.001, epochs=5, dropout_rate=0.25, batch_size=100, total=   0.9s\n",
      "[CV] optimizer=Adam, neurons=16, learn_rate=0.001, epochs=10, dropout_rate=0.5, batch_size=10 \n",
      "[CV]  optimizer=Adam, neurons=16, learn_rate=0.001, epochs=10, dropout_rate=0.5, batch_size=10, total=   2.5s\n",
      "[CV] optimizer=Adam, neurons=16, learn_rate=0.001, epochs=10, dropout_rate=0.5, batch_size=10 \n",
      "[CV]  optimizer=Adam, neurons=16, learn_rate=0.001, epochs=10, dropout_rate=0.5, batch_size=10, total=   2.3s\n",
      "[CV] optimizer=Adam, neurons=16, learn_rate=0.001, epochs=10, dropout_rate=0.5, batch_size=10 \n",
      "[CV]  optimizer=Adam, neurons=16, learn_rate=0.001, epochs=10, dropout_rate=0.5, batch_size=10, total=   2.2s\n",
      "[CV] optimizer=RMSprop, neurons=16, learn_rate=0.001, epochs=10, dropout_rate=0.75, batch_size=5 \n",
      "[CV]  optimizer=RMSprop, neurons=16, learn_rate=0.001, epochs=10, dropout_rate=0.75, batch_size=5, total=   3.6s\n",
      "[CV] optimizer=RMSprop, neurons=16, learn_rate=0.001, epochs=10, dropout_rate=0.75, batch_size=5 \n",
      "[CV]  optimizer=RMSprop, neurons=16, learn_rate=0.001, epochs=10, dropout_rate=0.75, batch_size=5, total=   3.1s\n",
      "[CV] optimizer=RMSprop, neurons=16, learn_rate=0.001, epochs=10, dropout_rate=0.75, batch_size=5 \n",
      "[CV]  optimizer=RMSprop, neurons=16, learn_rate=0.001, epochs=10, dropout_rate=0.75, batch_size=5, total=   3.3s\n",
      "[CV] optimizer=Adam, neurons=4, learn_rate=0.1, epochs=10, dropout_rate=0.25, batch_size=5 \n",
      "[CV]  optimizer=Adam, neurons=4, learn_rate=0.1, epochs=10, dropout_rate=0.25, batch_size=5, total=   3.3s\n",
      "[CV] optimizer=Adam, neurons=4, learn_rate=0.1, epochs=10, dropout_rate=0.25, batch_size=5 \n",
      "[CV]  optimizer=Adam, neurons=4, learn_rate=0.1, epochs=10, dropout_rate=0.25, batch_size=5, total=   3.5s\n",
      "[CV] optimizer=Adam, neurons=4, learn_rate=0.1, epochs=10, dropout_rate=0.25, batch_size=5 \n",
      "[CV]  optimizer=Adam, neurons=4, learn_rate=0.1, epochs=10, dropout_rate=0.25, batch_size=5, total=   3.6s\n"
     ]
    },
    {
     "name": "stderr",
     "output_type": "stream",
     "text": [
      "[Parallel(n_jobs=1)]: Done  60 out of  60 | elapsed:  1.9min finished\n"
     ]
    }
   ],
   "source": [
    "# Create hyperparameter space\n",
    "epochs = [5, 10]\n",
    "batches = [5, 10, 100]\n",
    "optimizers = [\"Adam\", \"RMSprop\"]\n",
    "learn_rate = [0.001, 0.01, 0.1]\n",
    "neurons = [4,8,16]\n",
    "dropout_rate = [0.0, 0.25, 0.5, 0.75]\n",
    "# Create hyperparameter options\n",
    "hyperparameters = dict(optimizer=optimizers, epochs=epochs, batch_size=batches, dropout_rate=dropout_rate, neurons=neurons, learn_rate=learn_rate)\n",
    "# Create grid search\n",
    "grid = RandomizedSearchCV(estimator=neural_network, n_iter=20, cv=3, param_distributions=hyperparameters,verbose=2)\n",
    "# Fit grid search\n",
    "grid_result = grid.fit(X_dev,y_dev)"
   ]
  },
  {
   "cell_type": "code",
   "execution_count": 65,
   "metadata": {},
   "outputs": [
    {
     "data": {
      "text/plain": [
       "{'optimizer': 'RMSprop',\n",
       " 'neurons': 16,\n",
       " 'learn_rate': 0.001,\n",
       " 'epochs': 10,\n",
       " 'dropout_rate': 0.75,\n",
       " 'batch_size': 5}"
      ]
     },
     "execution_count": 65,
     "metadata": {},
     "output_type": "execute_result"
    }
   ],
   "source": [
    "grid_result.best_params_"
   ]
  },
  {
   "cell_type": "code",
   "execution_count": 66,
   "metadata": {},
   "outputs": [],
   "source": [
    "A, B = [\"optimizer\",\"neurons\",\"learn_rate\",\"dropout_rate\"], [\"epochs\",\"batch_size\"]\n",
    "[paramsA, paramsB] = map(lambda keys: {x: grid_result.best_params_[x] for x in keys}, [A,B])"
   ]
  },
  {
   "cell_type": "code",
   "execution_count": 67,
   "metadata": {},
   "outputs": [
    {
     "name": "stdout",
     "output_type": "stream",
     "text": [
      "Epoch 1/10\n",
      "6338/6338 [==============================] - 0s 70us/step - loss: 0.5536 - accuracy: 0.7203\n",
      "Epoch 2/10\n",
      "6338/6338 [==============================] - 0s 69us/step - loss: 0.5032 - accuracy: 0.7618\n",
      "Epoch 3/10\n",
      "6338/6338 [==============================] - 0s 70us/step - loss: 0.4976 - accuracy: 0.7640\n",
      "Epoch 4/10\n",
      "6338/6338 [==============================] - 0s 65us/step - loss: 0.5004 - accuracy: 0.7654\n",
      "Epoch 5/10\n",
      "6338/6338 [==============================] - 0s 72us/step - loss: 0.5101 - accuracy: 0.7712\n",
      "Epoch 6/10\n",
      "6338/6338 [==============================] - 0s 67us/step - loss: 0.5086 - accuracy: 0.7711\n",
      "Epoch 7/10\n",
      "6338/6338 [==============================] - 0s 71us/step - loss: 0.5047 - accuracy: 0.7723\n",
      "Epoch 8/10\n",
      "6338/6338 [==============================] - 0s 73us/step - loss: 0.5099 - accuracy: 0.7782\n",
      "Epoch 9/10\n",
      "6338/6338 [==============================] - 0s 67us/step - loss: 0.5146 - accuracy: 0.7690\n",
      "Epoch 10/10\n",
      "6338/6338 [==============================] - 0s 73us/step - loss: 0.5172 - accuracy: 0.7756\n"
     ]
    }
   ],
   "source": [
    "#model = setup_network(optimizer=\"RMSprop\",neurons=4,learn_rate=0.01,dropout_rate=0.5)\n",
    "model = setup_network(**paramsA)\n",
    "model.fit(X_dev,y_dev,**paramsB)\n",
    "pickle.dump(RF, open('NN_model.sav', 'wb'))"
   ]
  },
  {
   "cell_type": "code",
   "execution_count": 68,
   "metadata": {},
   "outputs": [
    {
     "name": "stdout",
     "output_type": "stream",
     "text": [
      "Test Accuracy for Neural Network is 82.13 %\n"
     ]
    }
   ],
   "source": [
    "loaded_model = pickle.load(open('NN_model.sav', 'rb'))\n",
    "predictions = loaded_model.predict(X_test)\n",
    "pred = np.round(model.predict(X_test))\n",
    "accuracy_score(y_test,pred)\n",
    "Ensemble.append(pred)\n",
    "x = 100*accuracy_score(y_test,pred)\n",
    "x=round(x,2)\n",
    "print(\"Test Accuracy for Neural Network is\", x,\"%\")"
   ]
  },
  {
   "cell_type": "code",
   "execution_count": 199,
   "metadata": {},
   "outputs": [
    {
     "data": {
      "text/plain": [
       "RandomizedSearchCV(cv=3, error_score=nan,\n",
       "                   estimator=<keras.wrappers.scikit_learn.KerasClassifier object at 0x0000021BE5B33198>,\n",
       "                   iid='deprecated', n_iter=1, n_jobs=None,\n",
       "                   param_distributions={'batch_size': [5, 10, 100],\n",
       "                                        'dropout_rate': [0.0, 0.25, 0.5, 0.75],\n",
       "                                        'epochs': [5, 10],\n",
       "                                        'learn_rate': [0.001, 0.01, 0.1],\n",
       "                                        'neurons': [4, 8, 16],\n",
       "                                        'optimizer': ['Adam', 'RMSprop']},\n",
       "                   pre_dispatch='2*n_jobs', random_state=None, refit=True,\n",
       "                   return_train_score=False, scoring=None, verbose=2)"
      ]
     },
     "execution_count": 199,
     "metadata": {},
     "output_type": "execute_result"
    }
   ],
   "source": [
    "grid"
   ]
  },
  {
   "cell_type": "markdown",
   "metadata": {},
   "source": [
    "### Combining Classifiers"
   ]
  },
  {
   "cell_type": "markdown",
   "metadata": {},
   "source": [
    "In this section we combine the predictions of our four classifiers. We try two methods: A) Predict $0$ when there's a tie (i.e when we have two $0$ predictions and two $1$ predictions) and B) Predict $1$ when there's a tie. "
   ]
  },
  {
   "cell_type": "code",
   "execution_count": 232,
   "metadata": {},
   "outputs": [
    {
     "data": {
      "text/plain": [
       "19"
      ]
     },
     "execution_count": 232,
     "metadata": {},
     "output_type": "execute_result"
    }
   ],
   "source": []
  },
  {
   "cell_type": "code",
   "execution_count": null,
   "metadata": {},
   "outputs": [],
   "source": []
  }
 ],
 "metadata": {
  "kernelspec": {
   "display_name": "Python 3",
   "language": "python",
   "name": "python3"
  },
  "language_info": {
   "codemirror_mode": {
    "name": "ipython",
    "version": 3
   },
   "file_extension": ".py",
   "mimetype": "text/x-python",
   "name": "python",
   "nbconvert_exporter": "python",
   "pygments_lexer": "ipython3",
   "version": "3.8.3"
  }
 },
 "nbformat": 4,
 "nbformat_minor": 4
}
